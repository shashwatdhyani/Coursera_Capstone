{
 "cells": [
  {
   "cell_type": "markdown",
   "metadata": {},
   "source": [
    "### This notebook will be used for Capstone Project predicting the Accident Severity\n"
   ]
  },
  {
   "cell_type": "code",
   "execution_count": 1,
   "metadata": {},
   "outputs": [],
   "source": [
    "import pandas as pd\n",
    "import numpy as np"
   ]
  },
  {
   "cell_type": "code",
   "execution_count": 2,
   "metadata": {},
   "outputs": [
    {
     "name": "stdout",
     "output_type": "stream",
     "text": [
      "Hello Capstone Project Course !\n"
     ]
    }
   ],
   "source": [
    "print('Hello Capstone Project Course !')"
   ]
  },
  {
   "cell_type": "code",
   "execution_count": 3,
   "metadata": {},
   "outputs": [],
   "source": [
    "import seaborn as sns\n",
    "from sklearn.tree import DecisionTreeClassifier\n",
    "from sklearn.neighbors import KNeighborsClassifier\n",
    "from sklearn.linear_model import LogisticRegression\n",
    "from sklearn import svm\n",
    "from sklearn.model_selection import train_test_split\n",
    "from sklearn import metrics\n",
    "from sklearn import preprocessing\n",
    "from sklearn.metrics import jaccard_similarity_score\n",
    "from sklearn.metrics import f1_score\n",
    "from sklearn.metrics import log_loss\n",
    "from sklearn.metrics import classification_report, confusion_matrix\n",
    "import itertools\n",
    "%matplotlib inline\n",
    "import matplotlib as mtplt\n",
    "import matplotlib.pyplot as plt\n",
    "from sklearn.preprocessing import LabelEncoder"
   ]
  },
  {
   "cell_type": "markdown",
   "metadata": {},
   "source": [
    "#### Read data from csv file"
   ]
  },
  {
   "cell_type": "code",
   "execution_count": 4,
   "metadata": {},
   "outputs": [],
   "source": [
    "df=pd.read_csv('Data-Collisions.csv',low_memory=False)"
   ]
  },
  {
   "cell_type": "code",
   "execution_count": 5,
   "metadata": {},
   "outputs": [
    {
     "data": {
      "text/html": [
       "<div>\n",
       "<style scoped>\n",
       "    .dataframe tbody tr th:only-of-type {\n",
       "        vertical-align: middle;\n",
       "    }\n",
       "\n",
       "    .dataframe tbody tr th {\n",
       "        vertical-align: top;\n",
       "    }\n",
       "\n",
       "    .dataframe thead th {\n",
       "        text-align: right;\n",
       "    }\n",
       "</style>\n",
       "<table border=\"1\" class=\"dataframe\">\n",
       "  <thead>\n",
       "    <tr style=\"text-align: right;\">\n",
       "      <th></th>\n",
       "      <th>SEVERITYCODE</th>\n",
       "      <th>X</th>\n",
       "      <th>Y</th>\n",
       "      <th>OBJECTID</th>\n",
       "      <th>INCKEY</th>\n",
       "      <th>COLDETKEY</th>\n",
       "      <th>REPORTNO</th>\n",
       "      <th>STATUS</th>\n",
       "      <th>ADDRTYPE</th>\n",
       "      <th>INTKEY</th>\n",
       "      <th>...</th>\n",
       "      <th>ROADCOND</th>\n",
       "      <th>LIGHTCOND</th>\n",
       "      <th>PEDROWNOTGRNT</th>\n",
       "      <th>SDOTCOLNUM</th>\n",
       "      <th>SPEEDING</th>\n",
       "      <th>ST_COLCODE</th>\n",
       "      <th>ST_COLDESC</th>\n",
       "      <th>SEGLANEKEY</th>\n",
       "      <th>CROSSWALKKEY</th>\n",
       "      <th>HITPARKEDCAR</th>\n",
       "    </tr>\n",
       "  </thead>\n",
       "  <tbody>\n",
       "    <tr>\n",
       "      <th>0</th>\n",
       "      <td>2</td>\n",
       "      <td>-122.323148</td>\n",
       "      <td>47.703140</td>\n",
       "      <td>1</td>\n",
       "      <td>1307</td>\n",
       "      <td>1307</td>\n",
       "      <td>3502005</td>\n",
       "      <td>Matched</td>\n",
       "      <td>Intersection</td>\n",
       "      <td>37475.0</td>\n",
       "      <td>...</td>\n",
       "      <td>Wet</td>\n",
       "      <td>Daylight</td>\n",
       "      <td>NaN</td>\n",
       "      <td>NaN</td>\n",
       "      <td>NaN</td>\n",
       "      <td>10</td>\n",
       "      <td>Entering at angle</td>\n",
       "      <td>0.0</td>\n",
       "      <td>0.0</td>\n",
       "      <td>N</td>\n",
       "    </tr>\n",
       "    <tr>\n",
       "      <th>1</th>\n",
       "      <td>1</td>\n",
       "      <td>-122.347294</td>\n",
       "      <td>47.647172</td>\n",
       "      <td>2</td>\n",
       "      <td>52200</td>\n",
       "      <td>52200</td>\n",
       "      <td>2607959</td>\n",
       "      <td>Matched</td>\n",
       "      <td>Block</td>\n",
       "      <td>NaN</td>\n",
       "      <td>...</td>\n",
       "      <td>Wet</td>\n",
       "      <td>Dark - Street Lights On</td>\n",
       "      <td>NaN</td>\n",
       "      <td>6354039.0</td>\n",
       "      <td>NaN</td>\n",
       "      <td>11</td>\n",
       "      <td>From same direction - both going straight - bo...</td>\n",
       "      <td>0.0</td>\n",
       "      <td>0.0</td>\n",
       "      <td>N</td>\n",
       "    </tr>\n",
       "    <tr>\n",
       "      <th>2</th>\n",
       "      <td>1</td>\n",
       "      <td>-122.334540</td>\n",
       "      <td>47.607871</td>\n",
       "      <td>3</td>\n",
       "      <td>26700</td>\n",
       "      <td>26700</td>\n",
       "      <td>1482393</td>\n",
       "      <td>Matched</td>\n",
       "      <td>Block</td>\n",
       "      <td>NaN</td>\n",
       "      <td>...</td>\n",
       "      <td>Dry</td>\n",
       "      <td>Daylight</td>\n",
       "      <td>NaN</td>\n",
       "      <td>4323031.0</td>\n",
       "      <td>NaN</td>\n",
       "      <td>32</td>\n",
       "      <td>One parked--one moving</td>\n",
       "      <td>0.0</td>\n",
       "      <td>0.0</td>\n",
       "      <td>N</td>\n",
       "    </tr>\n",
       "    <tr>\n",
       "      <th>3</th>\n",
       "      <td>1</td>\n",
       "      <td>-122.334803</td>\n",
       "      <td>47.604803</td>\n",
       "      <td>4</td>\n",
       "      <td>1144</td>\n",
       "      <td>1144</td>\n",
       "      <td>3503937</td>\n",
       "      <td>Matched</td>\n",
       "      <td>Block</td>\n",
       "      <td>NaN</td>\n",
       "      <td>...</td>\n",
       "      <td>Dry</td>\n",
       "      <td>Daylight</td>\n",
       "      <td>NaN</td>\n",
       "      <td>NaN</td>\n",
       "      <td>NaN</td>\n",
       "      <td>23</td>\n",
       "      <td>From same direction - all others</td>\n",
       "      <td>0.0</td>\n",
       "      <td>0.0</td>\n",
       "      <td>N</td>\n",
       "    </tr>\n",
       "    <tr>\n",
       "      <th>4</th>\n",
       "      <td>2</td>\n",
       "      <td>-122.306426</td>\n",
       "      <td>47.545739</td>\n",
       "      <td>5</td>\n",
       "      <td>17700</td>\n",
       "      <td>17700</td>\n",
       "      <td>1807429</td>\n",
       "      <td>Matched</td>\n",
       "      <td>Intersection</td>\n",
       "      <td>34387.0</td>\n",
       "      <td>...</td>\n",
       "      <td>Wet</td>\n",
       "      <td>Daylight</td>\n",
       "      <td>NaN</td>\n",
       "      <td>4028032.0</td>\n",
       "      <td>NaN</td>\n",
       "      <td>10</td>\n",
       "      <td>Entering at angle</td>\n",
       "      <td>0.0</td>\n",
       "      <td>0.0</td>\n",
       "      <td>N</td>\n",
       "    </tr>\n",
       "  </tbody>\n",
       "</table>\n",
       "<p>5 rows × 38 columns</p>\n",
       "</div>"
      ],
      "text/plain": [
       "   SEVERITYCODE           X          Y  OBJECTID  INCKEY  COLDETKEY REPORTNO  \\\n",
       "0             2 -122.323148  47.703140         1    1307       1307  3502005   \n",
       "1             1 -122.347294  47.647172         2   52200      52200  2607959   \n",
       "2             1 -122.334540  47.607871         3   26700      26700  1482393   \n",
       "3             1 -122.334803  47.604803         4    1144       1144  3503937   \n",
       "4             2 -122.306426  47.545739         5   17700      17700  1807429   \n",
       "\n",
       "    STATUS      ADDRTYPE   INTKEY  ... ROADCOND                LIGHTCOND  \\\n",
       "0  Matched  Intersection  37475.0  ...      Wet                 Daylight   \n",
       "1  Matched         Block      NaN  ...      Wet  Dark - Street Lights On   \n",
       "2  Matched         Block      NaN  ...      Dry                 Daylight   \n",
       "3  Matched         Block      NaN  ...      Dry                 Daylight   \n",
       "4  Matched  Intersection  34387.0  ...      Wet                 Daylight   \n",
       "\n",
       "  PEDROWNOTGRNT  SDOTCOLNUM SPEEDING ST_COLCODE  \\\n",
       "0           NaN         NaN      NaN         10   \n",
       "1           NaN   6354039.0      NaN         11   \n",
       "2           NaN   4323031.0      NaN         32   \n",
       "3           NaN         NaN      NaN         23   \n",
       "4           NaN   4028032.0      NaN         10   \n",
       "\n",
       "                                          ST_COLDESC  SEGLANEKEY  \\\n",
       "0                                  Entering at angle         0.0   \n",
       "1  From same direction - both going straight - bo...         0.0   \n",
       "2                             One parked--one moving         0.0   \n",
       "3                   From same direction - all others         0.0   \n",
       "4                                  Entering at angle         0.0   \n",
       "\n",
       "   CROSSWALKKEY  HITPARKEDCAR  \n",
       "0           0.0             N  \n",
       "1           0.0             N  \n",
       "2           0.0             N  \n",
       "3           0.0             N  \n",
       "4           0.0             N  \n",
       "\n",
       "[5 rows x 38 columns]"
      ]
     },
     "execution_count": 5,
     "metadata": {},
     "output_type": "execute_result"
    }
   ],
   "source": [
    "df.head()"
   ]
  },
  {
   "cell_type": "markdown",
   "metadata": {},
   "source": [
    "###  "
   ]
  },
  {
   "cell_type": "markdown",
   "metadata": {},
   "source": [
    "#### Checking the Columns (Features) data type and the number of null/non-null values and total number of rows"
   ]
  },
  {
   "cell_type": "code",
   "execution_count": 6,
   "metadata": {},
   "outputs": [
    {
     "name": "stdout",
     "output_type": "stream",
     "text": [
      "<class 'pandas.core.frame.DataFrame'>\n",
      "RangeIndex: 65691 entries, 0 to 65690\n",
      "Data columns (total 38 columns):\n",
      " #   Column          Non-Null Count  Dtype  \n",
      "---  ------          --------------  -----  \n",
      " 0   SEVERITYCODE    65691 non-null  int64  \n",
      " 1   X               63971 non-null  float64\n",
      " 2   Y               63971 non-null  float64\n",
      " 3   OBJECTID        65691 non-null  int64  \n",
      " 4   INCKEY          65691 non-null  int64  \n",
      " 5   COLDETKEY       65691 non-null  int64  \n",
      " 6   REPORTNO        65691 non-null  object \n",
      " 7   STATUS          65691 non-null  object \n",
      " 8   ADDRTYPE        65299 non-null  object \n",
      " 9   INTKEY          20571 non-null  float64\n",
      " 10  LOCATION        64968 non-null  object \n",
      " 11  EXCEPTRSNCODE   2687 non-null   object \n",
      " 12  EXCEPTRSNDESC   482 non-null    object \n",
      " 13  SEVERITYCODE.1  65691 non-null  int64  \n",
      " 14  SEVERITYDESC    65691 non-null  object \n",
      " 15  COLLISIONTYPE   65553 non-null  object \n",
      " 16  PERSONCOUNT     65691 non-null  int64  \n",
      " 17  PEDCOUNT        65691 non-null  int64  \n",
      " 18  PEDCYLCOUNT     65691 non-null  int64  \n",
      " 19  VEHCOUNT        65691 non-null  int64  \n",
      " 20  INCDATE         65691 non-null  object \n",
      " 21  INCDTTM         65691 non-null  object \n",
      " 22  JUNCTIONTYPE    65097 non-null  object \n",
      " 23  SDOT_COLCODE    65690 non-null  float64\n",
      " 24  SDOT_COLDESC    65690 non-null  object \n",
      " 25  INATTENTIONIND  7681 non-null   object \n",
      " 26  UNDERINFL       65552 non-null  object \n",
      " 27  WEATHER         65538 non-null  object \n",
      " 28  ROADCOND        65534 non-null  object \n",
      " 29  LIGHTCOND       65535 non-null  object \n",
      " 30  PEDROWNOTGRNT   1511 non-null   object \n",
      " 31  SDOTCOLNUM      63844 non-null  float64\n",
      " 32  SPEEDING        3693 non-null   object \n",
      " 33  ST_COLCODE      65690 non-null  object \n",
      " 34  ST_COLDESC      65552 non-null  object \n",
      " 35  SEGLANEKEY      65690 non-null  float64\n",
      " 36  CROSSWALKKEY    65690 non-null  float64\n",
      " 37  HITPARKEDCAR    65690 non-null  object \n",
      "dtypes: float64(7), int64(9), object(22)\n",
      "memory usage: 13.5+ MB\n"
     ]
    }
   ],
   "source": [
    "df.info()"
   ]
  },
  {
   "cell_type": "markdown",
   "metadata": {},
   "source": [
    "#### There are total 65691 rows and 38 columns with SEVERITYCODE.1 being repeated for SEVERITYCODE. Many columns have too many null values"
   ]
  },
  {
   "cell_type": "markdown",
   "metadata": {},
   "source": [
    "###  "
   ]
  },
  {
   "cell_type": "code",
   "execution_count": 7,
   "metadata": {},
   "outputs": [
    {
     "data": {
      "text/html": [
       "<div>\n",
       "<style scoped>\n",
       "    .dataframe tbody tr th:only-of-type {\n",
       "        vertical-align: middle;\n",
       "    }\n",
       "\n",
       "    .dataframe tbody tr th {\n",
       "        vertical-align: top;\n",
       "    }\n",
       "\n",
       "    .dataframe thead th {\n",
       "        text-align: right;\n",
       "    }\n",
       "</style>\n",
       "<table border=\"1\" class=\"dataframe\">\n",
       "  <thead>\n",
       "    <tr style=\"text-align: right;\">\n",
       "      <th></th>\n",
       "      <th>SEVERITYCODE</th>\n",
       "      <th>X</th>\n",
       "      <th>Y</th>\n",
       "      <th>OBJECTID</th>\n",
       "      <th>INCKEY</th>\n",
       "      <th>COLDETKEY</th>\n",
       "      <th>INTKEY</th>\n",
       "      <th>SEVERITYCODE.1</th>\n",
       "      <th>PERSONCOUNT</th>\n",
       "      <th>PEDCOUNT</th>\n",
       "      <th>PEDCYLCOUNT</th>\n",
       "      <th>VEHCOUNT</th>\n",
       "      <th>SDOT_COLCODE</th>\n",
       "      <th>SDOTCOLNUM</th>\n",
       "      <th>SEGLANEKEY</th>\n",
       "      <th>CROSSWALKKEY</th>\n",
       "    </tr>\n",
       "  </thead>\n",
       "  <tbody>\n",
       "    <tr>\n",
       "      <th>count</th>\n",
       "      <td>65691.000000</td>\n",
       "      <td>63971.000000</td>\n",
       "      <td>63971.000000</td>\n",
       "      <td>65691.000000</td>\n",
       "      <td>65691.000000</td>\n",
       "      <td>65691.000000</td>\n",
       "      <td>20571.000000</td>\n",
       "      <td>65691.000000</td>\n",
       "      <td>65691.000000</td>\n",
       "      <td>65691.000000</td>\n",
       "      <td>65691.000000</td>\n",
       "      <td>65691.000000</td>\n",
       "      <td>65690.000000</td>\n",
       "      <td>6.384400e+04</td>\n",
       "      <td>65690.000000</td>\n",
       "      <td>65690.00000</td>\n",
       "    </tr>\n",
       "    <tr>\n",
       "      <th>mean</th>\n",
       "      <td>1.289142</td>\n",
       "      <td>-122.330857</td>\n",
       "      <td>47.620716</td>\n",
       "      <td>37305.743709</td>\n",
       "      <td>56617.993256</td>\n",
       "      <td>56630.809700</td>\n",
       "      <td>34577.078266</td>\n",
       "      <td>1.289142</td>\n",
       "      <td>2.513419</td>\n",
       "      <td>0.031207</td>\n",
       "      <td>0.020246</td>\n",
       "      <td>1.979510</td>\n",
       "      <td>14.267940</td>\n",
       "      <td>6.045792e+06</td>\n",
       "      <td>94.310824</td>\n",
       "      <td>3513.15048</td>\n",
       "    </tr>\n",
       "    <tr>\n",
       "      <th>std</th>\n",
       "      <td>0.453367</td>\n",
       "      <td>0.030139</td>\n",
       "      <td>0.055333</td>\n",
       "      <td>20459.153633</td>\n",
       "      <td>34420.523445</td>\n",
       "      <td>34512.104656</td>\n",
       "      <td>36880.942740</td>\n",
       "      <td>0.453367</td>\n",
       "      <td>1.302765</td>\n",
       "      <td>0.181670</td>\n",
       "      <td>0.141920</td>\n",
       "      <td>0.539397</td>\n",
       "      <td>6.000232</td>\n",
       "      <td>1.334186e+06</td>\n",
       "      <td>1524.483893</td>\n",
       "      <td>42961.55793</td>\n",
       "    </tr>\n",
       "    <tr>\n",
       "      <th>min</th>\n",
       "      <td>1.000000</td>\n",
       "      <td>-122.419091</td>\n",
       "      <td>47.495573</td>\n",
       "      <td>1.000000</td>\n",
       "      <td>1001.000000</td>\n",
       "      <td>1001.000000</td>\n",
       "      <td>23807.000000</td>\n",
       "      <td>1.000000</td>\n",
       "      <td>0.000000</td>\n",
       "      <td>0.000000</td>\n",
       "      <td>0.000000</td>\n",
       "      <td>0.000000</td>\n",
       "      <td>0.000000</td>\n",
       "      <td>3.137016e+06</td>\n",
       "      <td>0.000000</td>\n",
       "      <td>0.00000</td>\n",
       "    </tr>\n",
       "    <tr>\n",
       "      <th>25%</th>\n",
       "      <td>1.000000</td>\n",
       "      <td>-122.349751</td>\n",
       "      <td>47.578771</td>\n",
       "      <td>20484.500000</td>\n",
       "      <td>36528.500000</td>\n",
       "      <td>36528.500000</td>\n",
       "      <td>28651.000000</td>\n",
       "      <td>1.000000</td>\n",
       "      <td>2.000000</td>\n",
       "      <td>0.000000</td>\n",
       "      <td>0.000000</td>\n",
       "      <td>2.000000</td>\n",
       "      <td>11.000000</td>\n",
       "      <td>5.110022e+06</td>\n",
       "      <td>0.000000</td>\n",
       "      <td>0.00000</td>\n",
       "    </tr>\n",
       "    <tr>\n",
       "      <th>50%</th>\n",
       "      <td>1.000000</td>\n",
       "      <td>-122.330631</td>\n",
       "      <td>47.617131</td>\n",
       "      <td>37811.000000</td>\n",
       "      <td>53869.000000</td>\n",
       "      <td>53869.000000</td>\n",
       "      <td>29942.000000</td>\n",
       "      <td>1.000000</td>\n",
       "      <td>2.000000</td>\n",
       "      <td>0.000000</td>\n",
       "      <td>0.000000</td>\n",
       "      <td>2.000000</td>\n",
       "      <td>13.000000</td>\n",
       "      <td>6.118034e+06</td>\n",
       "      <td>0.000000</td>\n",
       "      <td>0.00000</td>\n",
       "    </tr>\n",
       "    <tr>\n",
       "      <th>75%</th>\n",
       "      <td>2.000000</td>\n",
       "      <td>-122.312003</td>\n",
       "      <td>47.664004</td>\n",
       "      <td>54892.500000</td>\n",
       "      <td>71006.500000</td>\n",
       "      <td>71006.500000</td>\n",
       "      <td>33564.000000</td>\n",
       "      <td>2.000000</td>\n",
       "      <td>3.000000</td>\n",
       "      <td>0.000000</td>\n",
       "      <td>0.000000</td>\n",
       "      <td>2.000000</td>\n",
       "      <td>14.000000</td>\n",
       "      <td>7.150010e+06</td>\n",
       "      <td>0.000000</td>\n",
       "      <td>0.00000</td>\n",
       "    </tr>\n",
       "    <tr>\n",
       "      <th>max</th>\n",
       "      <td>2.000000</td>\n",
       "      <td>-122.238949</td>\n",
       "      <td>47.734136</td>\n",
       "      <td>71981.000000</td>\n",
       "      <td>331200.000000</td>\n",
       "      <td>332700.000000</td>\n",
       "      <td>615985.000000</td>\n",
       "      <td>2.000000</td>\n",
       "      <td>53.000000</td>\n",
       "      <td>4.000000</td>\n",
       "      <td>2.000000</td>\n",
       "      <td>11.000000</td>\n",
       "      <td>69.000000</td>\n",
       "      <td>1.307202e+07</td>\n",
       "      <td>44781.000000</td>\n",
       "      <td>631432.00000</td>\n",
       "    </tr>\n",
       "  </tbody>\n",
       "</table>\n",
       "</div>"
      ],
      "text/plain": [
       "       SEVERITYCODE             X             Y      OBJECTID         INCKEY  \\\n",
       "count  65691.000000  63971.000000  63971.000000  65691.000000   65691.000000   \n",
       "mean       1.289142   -122.330857     47.620716  37305.743709   56617.993256   \n",
       "std        0.453367      0.030139      0.055333  20459.153633   34420.523445   \n",
       "min        1.000000   -122.419091     47.495573      1.000000    1001.000000   \n",
       "25%        1.000000   -122.349751     47.578771  20484.500000   36528.500000   \n",
       "50%        1.000000   -122.330631     47.617131  37811.000000   53869.000000   \n",
       "75%        2.000000   -122.312003     47.664004  54892.500000   71006.500000   \n",
       "max        2.000000   -122.238949     47.734136  71981.000000  331200.000000   \n",
       "\n",
       "           COLDETKEY         INTKEY  SEVERITYCODE.1   PERSONCOUNT  \\\n",
       "count   65691.000000   20571.000000    65691.000000  65691.000000   \n",
       "mean    56630.809700   34577.078266        1.289142      2.513419   \n",
       "std     34512.104656   36880.942740        0.453367      1.302765   \n",
       "min      1001.000000   23807.000000        1.000000      0.000000   \n",
       "25%     36528.500000   28651.000000        1.000000      2.000000   \n",
       "50%     53869.000000   29942.000000        1.000000      2.000000   \n",
       "75%     71006.500000   33564.000000        2.000000      3.000000   \n",
       "max    332700.000000  615985.000000        2.000000     53.000000   \n",
       "\n",
       "           PEDCOUNT   PEDCYLCOUNT      VEHCOUNT  SDOT_COLCODE    SDOTCOLNUM  \\\n",
       "count  65691.000000  65691.000000  65691.000000  65690.000000  6.384400e+04   \n",
       "mean       0.031207      0.020246      1.979510     14.267940  6.045792e+06   \n",
       "std        0.181670      0.141920      0.539397      6.000232  1.334186e+06   \n",
       "min        0.000000      0.000000      0.000000      0.000000  3.137016e+06   \n",
       "25%        0.000000      0.000000      2.000000     11.000000  5.110022e+06   \n",
       "50%        0.000000      0.000000      2.000000     13.000000  6.118034e+06   \n",
       "75%        0.000000      0.000000      2.000000     14.000000  7.150010e+06   \n",
       "max        4.000000      2.000000     11.000000     69.000000  1.307202e+07   \n",
       "\n",
       "         SEGLANEKEY  CROSSWALKKEY  \n",
       "count  65690.000000   65690.00000  \n",
       "mean      94.310824    3513.15048  \n",
       "std     1524.483893   42961.55793  \n",
       "min        0.000000       0.00000  \n",
       "25%        0.000000       0.00000  \n",
       "50%        0.000000       0.00000  \n",
       "75%        0.000000       0.00000  \n",
       "max    44781.000000  631432.00000  "
      ]
     },
     "execution_count": 7,
     "metadata": {},
     "output_type": "execute_result"
    }
   ],
   "source": [
    "df.describe()"
   ]
  },
  {
   "cell_type": "markdown",
   "metadata": {},
   "source": [
    "#### Describe() function does not provide meaningful information for this data set"
   ]
  },
  {
   "cell_type": "markdown",
   "metadata": {},
   "source": [
    "####  "
   ]
  },
  {
   "cell_type": "markdown",
   "metadata": {},
   "source": [
    "#### Going through the dataset and the metadata information we can say not all columns (Features) have the useful information to build the model.Hence we have chosen the following columns which look relevant.We will further check if all these columns would be required or not?"
   ]
  },
  {
   "cell_type": "code",
   "execution_count": 10,
   "metadata": {},
   "outputs": [],
   "source": [
    "df1=df[['SEVERITYCODE','LOCATION','ADDRTYPE','COLLISIONTYPE','INATTENTIONIND','UNDERINFL','WEATHER','SPEEDING','LIGHTCOND','PEDROWNOTGRNT','ROADCOND','JUNCTIONTYPE','PERSONCOUNT','VEHCOUNT','HITPARKEDCAR']]"
   ]
  },
  {
   "cell_type": "code",
   "execution_count": 11,
   "metadata": {},
   "outputs": [
    {
     "name": "stdout",
     "output_type": "stream",
     "text": [
      "<class 'pandas.core.frame.DataFrame'>\n",
      "RangeIndex: 65691 entries, 0 to 65690\n",
      "Data columns (total 15 columns):\n",
      " #   Column          Non-Null Count  Dtype \n",
      "---  ------          --------------  ----- \n",
      " 0   SEVERITYCODE    65691 non-null  int64 \n",
      " 1   LOCATION        64968 non-null  object\n",
      " 2   ADDRTYPE        65299 non-null  object\n",
      " 3   COLLISIONTYPE   65553 non-null  object\n",
      " 4   INATTENTIONIND  7681 non-null   object\n",
      " 5   UNDERINFL       65552 non-null  object\n",
      " 6   WEATHER         65538 non-null  object\n",
      " 7   SPEEDING        3693 non-null   object\n",
      " 8   LIGHTCOND       65535 non-null  object\n",
      " 9   PEDROWNOTGRNT   1511 non-null   object\n",
      " 10  ROADCOND        65534 non-null  object\n",
      " 11  JUNCTIONTYPE    65097 non-null  object\n",
      " 12  PERSONCOUNT     65691 non-null  int64 \n",
      " 13  VEHCOUNT        65691 non-null  int64 \n",
      " 14  HITPARKEDCAR    65690 non-null  object\n",
      "dtypes: int64(3), object(12)\n",
      "memory usage: 4.5+ MB\n"
     ]
    }
   ],
   "source": [
    "df1.info()"
   ]
  },
  {
   "cell_type": "markdown",
   "metadata": {},
   "source": [
    "####   "
   ]
  },
  {
   "cell_type": "markdown",
   "metadata": {},
   "source": [
    "#### Metadata says that the following columns have data value as 'N' and 'Y'. Since 'Y' is present in the dataset we will convert nulls into 'N'"
   ]
  },
  {
   "cell_type": "code",
   "execution_count": 12,
   "metadata": {},
   "outputs": [
    {
     "name": "stderr",
     "output_type": "stream",
     "text": [
      "C:\\ProgramData\\Anaconda3\\lib\\site-packages\\pandas\\core\\generic.py:6746: SettingWithCopyWarning: \n",
      "A value is trying to be set on a copy of a slice from a DataFrame\n",
      "\n",
      "See the caveats in the documentation: https://pandas.pydata.org/pandas-docs/stable/user_guide/indexing.html#returning-a-view-versus-a-copy\n",
      "  self._update_inplace(new_data)\n"
     ]
    }
   ],
   "source": [
    "df1['SPEEDING'].replace(np.nan,'N',inplace=True)\n",
    "df1['PEDROWNOTGRNT'].replace(np.nan,'N',inplace=True)\n",
    "df1['INATTENTIONIND'].replace(np.nan,'N',inplace=True)\n"
   ]
  },
  {
   "cell_type": "code",
   "execution_count": 13,
   "metadata": {},
   "outputs": [
    {
     "name": "stdout",
     "output_type": "stream",
     "text": [
      "<class 'pandas.core.frame.DataFrame'>\n",
      "RangeIndex: 65691 entries, 0 to 65690\n",
      "Data columns (total 15 columns):\n",
      " #   Column          Non-Null Count  Dtype \n",
      "---  ------          --------------  ----- \n",
      " 0   SEVERITYCODE    65691 non-null  int64 \n",
      " 1   LOCATION        64968 non-null  object\n",
      " 2   ADDRTYPE        65299 non-null  object\n",
      " 3   COLLISIONTYPE   65553 non-null  object\n",
      " 4   INATTENTIONIND  65691 non-null  object\n",
      " 5   UNDERINFL       65552 non-null  object\n",
      " 6   WEATHER         65538 non-null  object\n",
      " 7   SPEEDING        65691 non-null  object\n",
      " 8   LIGHTCOND       65535 non-null  object\n",
      " 9   PEDROWNOTGRNT   65691 non-null  object\n",
      " 10  ROADCOND        65534 non-null  object\n",
      " 11  JUNCTIONTYPE    65097 non-null  object\n",
      " 12  PERSONCOUNT     65691 non-null  int64 \n",
      " 13  VEHCOUNT        65691 non-null  int64 \n",
      " 14  HITPARKEDCAR    65690 non-null  object\n",
      "dtypes: int64(3), object(12)\n",
      "memory usage: 4.5+ MB\n"
     ]
    }
   ],
   "source": [
    "df1.info()"
   ]
  },
  {
   "cell_type": "markdown",
   "metadata": {},
   "source": [
    "###  "
   ]
  },
  {
   "cell_type": "markdown",
   "metadata": {},
   "source": [
    "#### We will now drop the remaining null values from the dataframe and assign it to new dataframe.After dropping null values dataset will have all the non-null values as seen by info() function"
   ]
  },
  {
   "cell_type": "code",
   "execution_count": 14,
   "metadata": {},
   "outputs": [],
   "source": [
    "df2=df1.dropna()"
   ]
  },
  {
   "cell_type": "code",
   "execution_count": 15,
   "metadata": {},
   "outputs": [
    {
     "name": "stdout",
     "output_type": "stream",
     "text": [
      "<class 'pandas.core.frame.DataFrame'>\n",
      "Int64Index: 64658 entries, 0 to 65689\n",
      "Data columns (total 15 columns):\n",
      " #   Column          Non-Null Count  Dtype \n",
      "---  ------          --------------  ----- \n",
      " 0   SEVERITYCODE    64658 non-null  int64 \n",
      " 1   LOCATION        64658 non-null  object\n",
      " 2   ADDRTYPE        64658 non-null  object\n",
      " 3   COLLISIONTYPE   64658 non-null  object\n",
      " 4   INATTENTIONIND  64658 non-null  object\n",
      " 5   UNDERINFL       64658 non-null  object\n",
      " 6   WEATHER         64658 non-null  object\n",
      " 7   SPEEDING        64658 non-null  object\n",
      " 8   LIGHTCOND       64658 non-null  object\n",
      " 9   PEDROWNOTGRNT   64658 non-null  object\n",
      " 10  ROADCOND        64658 non-null  object\n",
      " 11  JUNCTIONTYPE    64658 non-null  object\n",
      " 12  PERSONCOUNT     64658 non-null  int64 \n",
      " 13  VEHCOUNT        64658 non-null  int64 \n",
      " 14  HITPARKEDCAR    64658 non-null  object\n",
      "dtypes: int64(3), object(12)\n",
      "memory usage: 4.9+ MB\n"
     ]
    }
   ],
   "source": [
    "df2.info()"
   ]
  },
  {
   "cell_type": "markdown",
   "metadata": {},
   "source": [
    "####  "
   ]
  },
  {
   "cell_type": "markdown",
   "metadata": {},
   "source": [
    "#### we will check the count of each Label (SEVERITYCODE)"
   ]
  },
  {
   "cell_type": "code",
   "execution_count": 16,
   "metadata": {},
   "outputs": [
    {
     "data": {
      "text/plain": [
       "1    45813\n",
       "2    18845\n",
       "Name: SEVERITYCODE, dtype: int64"
      ]
     },
     "execution_count": 16,
     "metadata": {},
     "output_type": "execute_result"
    }
   ],
   "source": [
    "df2['SEVERITYCODE'].value_counts()"
   ]
  },
  {
   "cell_type": "markdown",
   "metadata": {},
   "source": [
    "##### Data is skewed towards Severity 1.Data is provided by Seattle Traffic Department hence we will not delete the rows to balance the data as it would result in loss of information"
   ]
  },
  {
   "cell_type": "markdown",
   "metadata": {},
   "source": [
    "####   "
   ]
  },
  {
   "cell_type": "markdown",
   "metadata": {},
   "source": [
    "#### Now we will check the count of each Feature for the Labels (SEVERITY CODE). It will help us to determine to delete the outliers and also the Features not required"
   ]
  },
  {
   "cell_type": "code",
   "execution_count": 17,
   "metadata": {},
   "outputs": [
    {
     "data": {
      "text/plain": [
       "SEVERITYCODE  LOCATION                                                                  \n",
       "1             ALASKAN WY VI NB BETWEEN S ROYAL BROUGHAM WAY ON RP AND SENECA ST OFF RP      75\n",
       "              BATTERY ST TUNNEL SB BETWEEN AURORA AVE N AND ALASKAN WY VI SB                70\n",
       "              N NORTHGATE WAY BETWEEN MERIDIAN AVE N AND CORLISS AVE N                      64\n",
       "              BATTERY ST TUNNEL NB BETWEEN ALASKAN WY VI NB AND AURORA AVE N                62\n",
       "              ALASKAN WY VI SB BETWEEN COLUMBIA ST ON RP AND ALASKAN WY VI SB EFR OFF RP    61\n",
       "                                                                                            ..\n",
       "2             YESLER WAY BETWEEN ALASKAN WAY AND ALASKAN E RDWY WAY                          1\n",
       "              YESLER WAY BETWEEN OCCIDENTAL AVE S AND 2ND AVE                                1\n",
       "              YESLER WAY BETWEEN POST AVE AND 1ST AVE                                        1\n",
       "              YORK RD S BETWEEN S HORTON ST AND 36TH AVE S                                   1\n",
       "              YUKON AVE S AND S HENDERSON ST                                                 1\n",
       "Name: LOCATION, Length: 22237, dtype: int64"
      ]
     },
     "execution_count": 17,
     "metadata": {},
     "output_type": "execute_result"
    }
   ],
   "source": [
    "df2.groupby(['SEVERITYCODE'])['LOCATION'].value_counts()"
   ]
  },
  {
   "cell_type": "code",
   "execution_count": 18,
   "metadata": {},
   "outputs": [
    {
     "data": {
      "text/plain": [
       "SEVERITYCODE  ADDRTYPE    \n",
       "1             Block           33901\n",
       "              Intersection    11912\n",
       "2             Block           10241\n",
       "              Intersection     8604\n",
       "Name: ADDRTYPE, dtype: int64"
      ]
     },
     "execution_count": 18,
     "metadata": {},
     "output_type": "execute_result"
    }
   ],
   "source": [
    "df2.groupby(['SEVERITYCODE'])['ADDRTYPE'].value_counts()"
   ]
  },
  {
   "cell_type": "code",
   "execution_count": 19,
   "metadata": {},
   "outputs": [
    {
     "data": {
      "text/plain": [
       "SEVERITYCODE  COLLISIONTYPE\n",
       "1             Parked Car       16007\n",
       "              Other             7339\n",
       "              Angles            6668\n",
       "              Rear Ended        6460\n",
       "              Sideswipe         5242\n",
       "              Left Turn         2699\n",
       "              Right Turn         708\n",
       "              Head On            352\n",
       "              Cycles             169\n",
       "              Pedestrian         169\n",
       "2             Rear Ended        5233\n",
       "              Angles            4328\n",
       "              Other             2582\n",
       "              Left Turn         1750\n",
       "              Pedestrian        1704\n",
       "              Cycles            1143\n",
       "              Parked Car         868\n",
       "              Sideswipe          764\n",
       "              Head On            309\n",
       "              Right Turn         164\n",
       "Name: COLLISIONTYPE, dtype: int64"
      ]
     },
     "execution_count": 19,
     "metadata": {},
     "output_type": "execute_result"
    }
   ],
   "source": [
    "df2.groupby(['SEVERITYCODE'])['COLLISIONTYPE'].value_counts()"
   ]
  },
  {
   "cell_type": "code",
   "execution_count": 20,
   "metadata": {},
   "outputs": [
    {
     "data": {
      "text/plain": [
       "SEVERITYCODE  INATTENTIONIND\n",
       "1             N                 40892\n",
       "              Y                  4921\n",
       "2             N                 16135\n",
       "              Y                  2710\n",
       "Name: INATTENTIONIND, dtype: int64"
      ]
     },
     "execution_count": 20,
     "metadata": {},
     "output_type": "execute_result"
    }
   ],
   "source": [
    "df2.groupby(['SEVERITYCODE'])['INATTENTIONIND'].value_counts()"
   ]
  },
  {
   "cell_type": "code",
   "execution_count": 21,
   "metadata": {},
   "outputs": [
    {
     "data": {
      "text/plain": [
       "SEVERITYCODE  UNDERINFL\n",
       "1             0            42688\n",
       "              1             1763\n",
       "              N             1308\n",
       "              Y               54\n",
       "2             0            17046\n",
       "              1             1180\n",
       "              N              582\n",
       "              Y               37\n",
       "Name: UNDERINFL, dtype: int64"
      ]
     },
     "execution_count": 21,
     "metadata": {},
     "output_type": "execute_result"
    }
   ],
   "source": [
    "df2.groupby(['SEVERITYCODE'])['UNDERINFL'].value_counts()"
   ]
  },
  {
   "cell_type": "code",
   "execution_count": 37,
   "metadata": {},
   "outputs": [],
   "source": [
    "df2['UNDERINFL'].replace('0','N',inplace=True)\n",
    "\n",
    "df2['UNDERINFL'].replace('1','Y',inplace=True)"
   ]
  },
  {
   "cell_type": "code",
   "execution_count": 38,
   "metadata": {},
   "outputs": [
    {
     "data": {
      "text/plain": [
       "SEVERITYCODE  UNDERINFL\n",
       "1             N            43996\n",
       "              Y             1817\n",
       "2             N            17628\n",
       "              Y             1217\n",
       "Name: UNDERINFL, dtype: int64"
      ]
     },
     "execution_count": 38,
     "metadata": {},
     "output_type": "execute_result"
    }
   ],
   "source": [
    "df2.groupby(['SEVERITYCODE'])['UNDERINFL'].value_counts()"
   ]
  },
  {
   "cell_type": "code",
   "execution_count": 39,
   "metadata": {},
   "outputs": [
    {
     "data": {
      "text/plain": [
       "SEVERITYCODE  WEATHER                 \n",
       "1             Clear                       26614\n",
       "              Raining                      7594\n",
       "              Overcast                     6950\n",
       "              Unknown                      3865\n",
       "              Other                         327\n",
       "              Snowing                       276\n",
       "              Fog/Smog/Smoke                118\n",
       "              Sleet/Hail/Freezing Rain       44\n",
       "              Blowing Sand/Dirt              17\n",
       "              Severe Crosswind                8\n",
       "2             Clear                       11651\n",
       "              Raining                      3744\n",
       "              Overcast                     2961\n",
       "              Unknown                       308\n",
       "              Snowing                        60\n",
       "              Fog/Smog/Smoke                 56\n",
       "              Other                          51\n",
       "              Sleet/Hail/Freezing Rain       10\n",
       "              Blowing Sand/Dirt               2\n",
       "              Severe Crosswind                2\n",
       "Name: WEATHER, dtype: int64"
      ]
     },
     "execution_count": 39,
     "metadata": {},
     "output_type": "execute_result"
    }
   ],
   "source": [
    "df2.groupby(['SEVERITYCODE'])['WEATHER'].value_counts()\n"
   ]
  },
  {
   "cell_type": "code",
   "execution_count": 40,
   "metadata": {},
   "outputs": [
    {
     "data": {
      "text/plain": [
       "SEVERITYCODE  SPEEDING\n",
       "1             N           43471\n",
       "              Y            2342\n",
       "2             N           17518\n",
       "              Y            1327\n",
       "Name: SPEEDING, dtype: int64"
      ]
     },
     "execution_count": 40,
     "metadata": {},
     "output_type": "execute_result"
    }
   ],
   "source": [
    "df2.groupby(['SEVERITYCODE'])['SPEEDING'].value_counts()"
   ]
  },
  {
   "cell_type": "code",
   "execution_count": 41,
   "metadata": {},
   "outputs": [
    {
     "data": {
      "text/plain": [
       "SEVERITYCODE  LIGHTCOND               \n",
       "1             Daylight                    27372\n",
       "              Dark - Street Lights On     12215\n",
       "              Unknown                      3345\n",
       "              Dusk                         1491\n",
       "              Dawn                          593\n",
       "              Dark - No Street Lights       420\n",
       "              Dark - Street Lights Off      310\n",
       "              Other                          66\n",
       "              Dark - Unknown Lighting         1\n",
       "2             Daylight                    12768\n",
       "              Dark - Street Lights On      4739\n",
       "              Dusk                          671\n",
       "              Dawn                          260\n",
       "              Unknown                       186\n",
       "              Dark - Street Lights Off      103\n",
       "              Dark - No Street Lights       100\n",
       "              Other                          18\n",
       "Name: LIGHTCOND, dtype: int64"
      ]
     },
     "execution_count": 41,
     "metadata": {},
     "output_type": "execute_result"
    }
   ],
   "source": [
    "df2.groupby(['SEVERITYCODE'])['LIGHTCOND'].value_counts()"
   ]
  },
  {
   "cell_type": "code",
   "execution_count": 42,
   "metadata": {},
   "outputs": [
    {
     "data": {
      "text/plain": [
       "SEVERITYCODE  ROADCOND      \n",
       "1             Dry               30251\n",
       "              Wet               10927\n",
       "              Unknown            3742\n",
       "              Ice                 478\n",
       "              Snow/Slush          320\n",
       "              Standing Water       34\n",
       "              Other                33\n",
       "              Sand/Mud/Dirt        16\n",
       "              Oil                  12\n",
       "2             Dry               13135\n",
       "              Wet                5242\n",
       "              Unknown             234\n",
       "              Ice                 119\n",
       "              Snow/Slush           63\n",
       "              Sand/Mud/Dirt        15\n",
       "              Standing Water       13\n",
       "              Oil                  12\n",
       "              Other                12\n",
       "Name: ROADCOND, dtype: int64"
      ]
     },
     "execution_count": 42,
     "metadata": {},
     "output_type": "execute_result"
    }
   ],
   "source": [
    "df2.groupby(['SEVERITYCODE'])['ROADCOND'].value_counts()"
   ]
  },
  {
   "cell_type": "code",
   "execution_count": 43,
   "metadata": {},
   "outputs": [
    {
     "data": {
      "text/plain": [
       "SEVERITYCODE  PEDROWNOTGRNT\n",
       "1             N                45668\n",
       "              Y                  145\n",
       "2             N                17486\n",
       "              Y                 1359\n",
       "Name: PEDROWNOTGRNT, dtype: int64"
      ]
     },
     "execution_count": 43,
     "metadata": {},
     "output_type": "execute_result"
    }
   ],
   "source": [
    "df2.groupby(['SEVERITYCODE'])['PEDROWNOTGRNT'].value_counts()"
   ]
  },
  {
   "cell_type": "code",
   "execution_count": 44,
   "metadata": {},
   "outputs": [
    {
     "data": {
      "text/plain": [
       "SEVERITYCODE  JUNCTIONTYPE                                     \n",
       "1             Mid-Block (not related to intersection)              22885\n",
       "              At Intersection (intersection related)               11711\n",
       "              Mid-Block (but intersection related)                  7399\n",
       "              Driveway Junction                                     3613\n",
       "              At Intersection (but not related to intersection)      184\n",
       "              Ramp Junction                                           21\n",
       "2             At Intersection (intersection related)                8487\n",
       "              Mid-Block (not related to intersection)               5311\n",
       "              Mid-Block (but intersection related)                  3510\n",
       "              Driveway Junction                                     1419\n",
       "              At Intersection (but not related to intersection)      114\n",
       "              Ramp Junction                                            4\n",
       "Name: JUNCTIONTYPE, dtype: int64"
      ]
     },
     "execution_count": 44,
     "metadata": {},
     "output_type": "execute_result"
    }
   ],
   "source": [
    "df2.groupby(['SEVERITYCODE'])['JUNCTIONTYPE'].value_counts()"
   ]
  },
  {
   "cell_type": "code",
   "execution_count": 45,
   "metadata": {},
   "outputs": [
    {
     "data": {
      "text/plain": [
       "SEVERITYCODE  PERSONCOUNT\n",
       "1             2              30492\n",
       "              3               7357\n",
       "              4               2841\n",
       "              1               2835\n",
       "              5               1264\n",
       "              6                487\n",
       "              0                212\n",
       "              7                149\n",
       "              8                 86\n",
       "              9                 28\n",
       "              10                17\n",
       "              11                 8\n",
       "              12                 4\n",
       "              13                 4\n",
       "              14                 4\n",
       "              17                 2\n",
       "              20                 2\n",
       "              29                 2\n",
       "              36                 2\n",
       "              37                 2\n",
       "              44                 2\n",
       "              15                 1\n",
       "              16                 1\n",
       "              19                 1\n",
       "              21                 1\n",
       "              22                 1\n",
       "              26                 1\n",
       "              28                 1\n",
       "              30                 1\n",
       "              32                 1\n",
       "              35                 1\n",
       "              41                 1\n",
       "              43                 1\n",
       "              53                 1\n",
       "2             2               9081\n",
       "              3               4626\n",
       "              4               2149\n",
       "              5               1051\n",
       "              1                922\n",
       "              6                495\n",
       "              7                259\n",
       "              8                 87\n",
       "              0                 81\n",
       "              9                 34\n",
       "              10                17\n",
       "              11                12\n",
       "              12                 7\n",
       "              17                 5\n",
       "              13                 3\n",
       "              14                 3\n",
       "              15                 3\n",
       "              16                 3\n",
       "              19                 1\n",
       "              20                 1\n",
       "              23                 1\n",
       "              27                 1\n",
       "              29                 1\n",
       "              30                 1\n",
       "              37                 1\n",
       "Name: PERSONCOUNT, dtype: int64"
      ]
     },
     "execution_count": 45,
     "metadata": {},
     "output_type": "execute_result"
    }
   ],
   "source": [
    "df2.groupby(['SEVERITYCODE'])['PERSONCOUNT'].value_counts()"
   ]
  },
  {
   "cell_type": "markdown",
   "metadata": {},
   "source": [
    "#### We will delete the rows with PERSONCOUNT > 7 as there is very less count of more than 7 people involved in accident"
   ]
  },
  {
   "cell_type": "code",
   "execution_count": 58,
   "metadata": {},
   "outputs": [
    {
     "name": "stderr",
     "output_type": "stream",
     "text": [
      "C:\\ProgramData\\Anaconda3\\lib\\site-packages\\pandas\\core\\frame.py:3997: SettingWithCopyWarning: \n",
      "A value is trying to be set on a copy of a slice from a DataFrame\n",
      "\n",
      "See the caveats in the documentation: https://pandas.pydata.org/pandas-docs/stable/user_guide/indexing.html#returning-a-view-versus-a-copy\n",
      "  errors=errors,\n"
     ]
    }
   ],
   "source": [
    "df2.drop(df2[df2['PERSONCOUNT'] > 7].index, inplace = True) "
   ]
  },
  {
   "cell_type": "code",
   "execution_count": 59,
   "metadata": {},
   "outputs": [
    {
     "data": {
      "text/plain": [
       "SEVERITYCODE  PERSONCOUNT\n",
       "1             2              30492\n",
       "              3               7357\n",
       "              4               2841\n",
       "              1               2835\n",
       "              5               1264\n",
       "              6                487\n",
       "              0                212\n",
       "              7                149\n",
       "2             2               9081\n",
       "              3               4626\n",
       "              4               2149\n",
       "              5               1051\n",
       "              1                922\n",
       "              6                495\n",
       "              7                259\n",
       "              0                 81\n",
       "Name: PERSONCOUNT, dtype: int64"
      ]
     },
     "execution_count": 59,
     "metadata": {},
     "output_type": "execute_result"
    }
   ],
   "source": [
    "df2.groupby(['SEVERITYCODE'])['PERSONCOUNT'].value_counts()"
   ]
  },
  {
   "cell_type": "code",
   "execution_count": 60,
   "metadata": {},
   "outputs": [
    {
     "data": {
      "text/plain": [
       "SEVERITYCODE  VEHCOUNT\n",
       "1             2           38894\n",
       "              1            3694\n",
       "              3            2493\n",
       "              4             448\n",
       "              5              80\n",
       "              6              23\n",
       "              7               5\n",
       "2             2           12445\n",
       "              1            3951\n",
       "              3            1792\n",
       "              4             339\n",
       "              5              74\n",
       "              0              43\n",
       "              6              15\n",
       "              7               5\n",
       "Name: VEHCOUNT, dtype: int64"
      ]
     },
     "execution_count": 60,
     "metadata": {},
     "output_type": "execute_result"
    }
   ],
   "source": [
    "df2.groupby(['SEVERITYCODE'])['VEHCOUNT'].value_counts()"
   ]
  },
  {
   "cell_type": "markdown",
   "metadata": {},
   "source": [
    "#### We will delete the rows with VEHCOUNT > 4 as there is very less count of vehicles more than 4 involved in accident"
   ]
  },
  {
   "cell_type": "code",
   "execution_count": 61,
   "metadata": {},
   "outputs": [],
   "source": [
    "df2.drop(df2[df2['VEHCOUNT'] > 4].index, inplace = True) "
   ]
  },
  {
   "cell_type": "code",
   "execution_count": 62,
   "metadata": {},
   "outputs": [
    {
     "data": {
      "text/plain": [
       "SEVERITYCODE  VEHCOUNT\n",
       "1             2           38894\n",
       "              1            3694\n",
       "              3            2493\n",
       "              4             448\n",
       "2             2           12445\n",
       "              1            3951\n",
       "              3            1792\n",
       "              4             339\n",
       "              0              43\n",
       "Name: VEHCOUNT, dtype: int64"
      ]
     },
     "execution_count": 62,
     "metadata": {},
     "output_type": "execute_result"
    }
   ],
   "source": [
    "df2.groupby(['SEVERITYCODE'])['VEHCOUNT'].value_counts()"
   ]
  },
  {
   "cell_type": "code",
   "execution_count": 47,
   "metadata": {},
   "outputs": [
    {
     "data": {
      "text/plain": [
       "SEVERITYCODE  HITPARKEDCAR\n",
       "1             N               45724\n",
       "              Y                  89\n",
       "2             N               18842\n",
       "              Y                   3\n",
       "Name: HITPARKEDCAR, dtype: int64"
      ]
     },
     "execution_count": 47,
     "metadata": {},
     "output_type": "execute_result"
    }
   ],
   "source": [
    "df2.groupby(['SEVERITYCODE'])['HITPARKEDCAR'].value_counts()"
   ]
  },
  {
   "cell_type": "markdown",
   "metadata": {},
   "source": [
    "#### We will not include HITPARKEDCAR in the final feature selection as parked cars were hit negligible times"
   ]
  },
  {
   "cell_type": "markdown",
   "metadata": {},
   "source": [
    "####  "
   ]
  },
  {
   "cell_type": "markdown",
   "metadata": {},
   "source": [
    "####  We missed to include PEDCOUNT in our dataframe hence we are defining new dataframe with only SEVERITYCODE and PEDCOUNT and we will check how many occurences are there for each Severity"
   ]
  },
  {
   "cell_type": "code",
   "execution_count": 55,
   "metadata": {},
   "outputs": [],
   "source": [
    "df3=df[['SEVERITYCODE','PEDCOUNT']]"
   ]
  },
  {
   "cell_type": "code",
   "execution_count": 57,
   "metadata": {},
   "outputs": [
    {
     "data": {
      "text/plain": [
       "SEVERITYCODE  PEDCOUNT\n",
       "1             0           46523\n",
       "              1             166\n",
       "              2               8\n",
       "2             0           17200\n",
       "              1            1728\n",
       "              2              59\n",
       "              3               6\n",
       "              4               1\n",
       "Name: PEDCOUNT, dtype: int64"
      ]
     },
     "execution_count": 57,
     "metadata": {},
     "output_type": "execute_result"
    }
   ],
   "source": [
    "df3.groupby(['SEVERITYCODE'])['PEDCOUNT'].value_counts()"
   ]
  },
  {
   "cell_type": "markdown",
   "metadata": {},
   "source": [
    "####  We will not include PEDCOUNT in the final feature selection as most of the times Pedestrian were not involved in the accident\n"
   ]
  },
  {
   "cell_type": "markdown",
   "metadata": {},
   "source": [
    "####   "
   ]
  },
  {
   "cell_type": "markdown",
   "metadata": {},
   "source": [
    "#### Final Non-null row count in the Dataframe"
   ]
  },
  {
   "cell_type": "code",
   "execution_count": 63,
   "metadata": {},
   "outputs": [
    {
     "name": "stdout",
     "output_type": "stream",
     "text": [
      "<class 'pandas.core.frame.DataFrame'>\n",
      "Int64Index: 64099 entries, 0 to 65689\n",
      "Data columns (total 15 columns):\n",
      " #   Column          Non-Null Count  Dtype \n",
      "---  ------          --------------  ----- \n",
      " 0   SEVERITYCODE    64099 non-null  int64 \n",
      " 1   LOCATION        64099 non-null  object\n",
      " 2   ADDRTYPE        64099 non-null  object\n",
      " 3   COLLISIONTYPE   64099 non-null  object\n",
      " 4   INATTENTIONIND  64099 non-null  object\n",
      " 5   UNDERINFL       64099 non-null  object\n",
      " 6   WEATHER         64099 non-null  object\n",
      " 7   SPEEDING        64099 non-null  object\n",
      " 8   LIGHTCOND       64099 non-null  object\n",
      " 9   PEDROWNOTGRNT   64099 non-null  object\n",
      " 10  ROADCOND        64099 non-null  object\n",
      " 11  JUNCTIONTYPE    64099 non-null  object\n",
      " 12  PERSONCOUNT     64099 non-null  int64 \n",
      " 13  VEHCOUNT        64099 non-null  int64 \n",
      " 14  HITPARKEDCAR    64099 non-null  object\n",
      "dtypes: int64(3), object(12)\n",
      "memory usage: 4.9+ MB\n"
     ]
    }
   ],
   "source": [
    "df2.info()"
   ]
  },
  {
   "cell_type": "markdown",
   "metadata": {},
   "source": [
    "####   "
   ]
  },
  {
   "cell_type": "markdown",
   "metadata": {},
   "source": [
    "##### Since we are predicting the defined labels (SEVERITYCODE) this is the Supervised Classification problem hence we will convert categorical values to the numerical values using Label Encoder"
   ]
  },
  {
   "cell_type": "code",
   "execution_count": 64,
   "metadata": {},
   "outputs": [
    {
     "name": "stderr",
     "output_type": "stream",
     "text": [
      "C:\\ProgramData\\Anaconda3\\lib\\site-packages\\ipykernel_launcher.py:1: SettingWithCopyWarning: \n",
      "A value is trying to be set on a copy of a slice from a DataFrame.\n",
      "Try using .loc[row_indexer,col_indexer] = value instead\n",
      "\n",
      "See the caveats in the documentation: https://pandas.pydata.org/pandas-docs/stable/user_guide/indexing.html#returning-a-view-versus-a-copy\n",
      "  \"\"\"Entry point for launching an IPython kernel.\n"
     ]
    }
   ],
   "source": [
    "df2['LOCATION'] = LabelEncoder().fit_transform(df2['LOCATION'])"
   ]
  },
  {
   "cell_type": "code",
   "execution_count": 65,
   "metadata": {},
   "outputs": [
    {
     "name": "stderr",
     "output_type": "stream",
     "text": [
      "C:\\ProgramData\\Anaconda3\\lib\\site-packages\\ipykernel_launcher.py:1: SettingWithCopyWarning: \n",
      "A value is trying to be set on a copy of a slice from a DataFrame.\n",
      "Try using .loc[row_indexer,col_indexer] = value instead\n",
      "\n",
      "See the caveats in the documentation: https://pandas.pydata.org/pandas-docs/stable/user_guide/indexing.html#returning-a-view-versus-a-copy\n",
      "  \"\"\"Entry point for launching an IPython kernel.\n"
     ]
    }
   ],
   "source": [
    "df2['ADDRTYPE'] = LabelEncoder().fit_transform(df2['ADDRTYPE'])"
   ]
  },
  {
   "cell_type": "code",
   "execution_count": 66,
   "metadata": {},
   "outputs": [
    {
     "name": "stderr",
     "output_type": "stream",
     "text": [
      "C:\\ProgramData\\Anaconda3\\lib\\site-packages\\ipykernel_launcher.py:1: SettingWithCopyWarning: \n",
      "A value is trying to be set on a copy of a slice from a DataFrame.\n",
      "Try using .loc[row_indexer,col_indexer] = value instead\n",
      "\n",
      "See the caveats in the documentation: https://pandas.pydata.org/pandas-docs/stable/user_guide/indexing.html#returning-a-view-versus-a-copy\n",
      "  \"\"\"Entry point for launching an IPython kernel.\n"
     ]
    }
   ],
   "source": [
    "df2['COLLISIONTYPE'] = LabelEncoder().fit_transform(df2['COLLISIONTYPE'])"
   ]
  },
  {
   "cell_type": "code",
   "execution_count": 67,
   "metadata": {},
   "outputs": [
    {
     "name": "stderr",
     "output_type": "stream",
     "text": [
      "C:\\ProgramData\\Anaconda3\\lib\\site-packages\\ipykernel_launcher.py:1: SettingWithCopyWarning: \n",
      "A value is trying to be set on a copy of a slice from a DataFrame.\n",
      "Try using .loc[row_indexer,col_indexer] = value instead\n",
      "\n",
      "See the caveats in the documentation: https://pandas.pydata.org/pandas-docs/stable/user_guide/indexing.html#returning-a-view-versus-a-copy\n",
      "  \"\"\"Entry point for launching an IPython kernel.\n"
     ]
    }
   ],
   "source": [
    "df2['INATTENTIONIND'] = LabelEncoder().fit_transform(df2['INATTENTIONIND'])"
   ]
  },
  {
   "cell_type": "code",
   "execution_count": 68,
   "metadata": {},
   "outputs": [
    {
     "name": "stderr",
     "output_type": "stream",
     "text": [
      "C:\\ProgramData\\Anaconda3\\lib\\site-packages\\ipykernel_launcher.py:1: SettingWithCopyWarning: \n",
      "A value is trying to be set on a copy of a slice from a DataFrame.\n",
      "Try using .loc[row_indexer,col_indexer] = value instead\n",
      "\n",
      "See the caveats in the documentation: https://pandas.pydata.org/pandas-docs/stable/user_guide/indexing.html#returning-a-view-versus-a-copy\n",
      "  \"\"\"Entry point for launching an IPython kernel.\n"
     ]
    }
   ],
   "source": [
    "df2['UNDERINFL'] = LabelEncoder().fit_transform(df2['UNDERINFL'])"
   ]
  },
  {
   "cell_type": "code",
   "execution_count": 69,
   "metadata": {},
   "outputs": [
    {
     "name": "stderr",
     "output_type": "stream",
     "text": [
      "C:\\ProgramData\\Anaconda3\\lib\\site-packages\\ipykernel_launcher.py:1: SettingWithCopyWarning: \n",
      "A value is trying to be set on a copy of a slice from a DataFrame.\n",
      "Try using .loc[row_indexer,col_indexer] = value instead\n",
      "\n",
      "See the caveats in the documentation: https://pandas.pydata.org/pandas-docs/stable/user_guide/indexing.html#returning-a-view-versus-a-copy\n",
      "  \"\"\"Entry point for launching an IPython kernel.\n"
     ]
    }
   ],
   "source": [
    "df2['WEATHER'] = LabelEncoder().fit_transform(df2['WEATHER'])"
   ]
  },
  {
   "cell_type": "code",
   "execution_count": 70,
   "metadata": {},
   "outputs": [
    {
     "name": "stderr",
     "output_type": "stream",
     "text": [
      "C:\\ProgramData\\Anaconda3\\lib\\site-packages\\ipykernel_launcher.py:1: SettingWithCopyWarning: \n",
      "A value is trying to be set on a copy of a slice from a DataFrame.\n",
      "Try using .loc[row_indexer,col_indexer] = value instead\n",
      "\n",
      "See the caveats in the documentation: https://pandas.pydata.org/pandas-docs/stable/user_guide/indexing.html#returning-a-view-versus-a-copy\n",
      "  \"\"\"Entry point for launching an IPython kernel.\n"
     ]
    }
   ],
   "source": [
    "df2['SPEEDING'] = LabelEncoder().fit_transform(df2['SPEEDING'])"
   ]
  },
  {
   "cell_type": "code",
   "execution_count": 71,
   "metadata": {},
   "outputs": [
    {
     "name": "stderr",
     "output_type": "stream",
     "text": [
      "C:\\ProgramData\\Anaconda3\\lib\\site-packages\\ipykernel_launcher.py:1: SettingWithCopyWarning: \n",
      "A value is trying to be set on a copy of a slice from a DataFrame.\n",
      "Try using .loc[row_indexer,col_indexer] = value instead\n",
      "\n",
      "See the caveats in the documentation: https://pandas.pydata.org/pandas-docs/stable/user_guide/indexing.html#returning-a-view-versus-a-copy\n",
      "  \"\"\"Entry point for launching an IPython kernel.\n"
     ]
    }
   ],
   "source": [
    "df2['LIGHTCOND'] = LabelEncoder().fit_transform(df2['LIGHTCOND'])"
   ]
  },
  {
   "cell_type": "code",
   "execution_count": 73,
   "metadata": {},
   "outputs": [
    {
     "name": "stderr",
     "output_type": "stream",
     "text": [
      "C:\\ProgramData\\Anaconda3\\lib\\site-packages\\ipykernel_launcher.py:1: SettingWithCopyWarning: \n",
      "A value is trying to be set on a copy of a slice from a DataFrame.\n",
      "Try using .loc[row_indexer,col_indexer] = value instead\n",
      "\n",
      "See the caveats in the documentation: https://pandas.pydata.org/pandas-docs/stable/user_guide/indexing.html#returning-a-view-versus-a-copy\n",
      "  \"\"\"Entry point for launching an IPython kernel.\n"
     ]
    }
   ],
   "source": [
    "df2['ROADCOND'] = LabelEncoder().fit_transform(df2['ROADCOND'])"
   ]
  },
  {
   "cell_type": "code",
   "execution_count": 75,
   "metadata": {},
   "outputs": [
    {
     "name": "stderr",
     "output_type": "stream",
     "text": [
      "C:\\ProgramData\\Anaconda3\\lib\\site-packages\\ipykernel_launcher.py:1: SettingWithCopyWarning: \n",
      "A value is trying to be set on a copy of a slice from a DataFrame.\n",
      "Try using .loc[row_indexer,col_indexer] = value instead\n",
      "\n",
      "See the caveats in the documentation: https://pandas.pydata.org/pandas-docs/stable/user_guide/indexing.html#returning-a-view-versus-a-copy\n",
      "  \"\"\"Entry point for launching an IPython kernel.\n"
     ]
    }
   ],
   "source": [
    "df2['PEDROWNOTGRNT'] = LabelEncoder().fit_transform(df2['PEDROWNOTGRNT'])"
   ]
  },
  {
   "cell_type": "code",
   "execution_count": 76,
   "metadata": {},
   "outputs": [
    {
     "name": "stderr",
     "output_type": "stream",
     "text": [
      "C:\\ProgramData\\Anaconda3\\lib\\site-packages\\ipykernel_launcher.py:1: SettingWithCopyWarning: \n",
      "A value is trying to be set on a copy of a slice from a DataFrame.\n",
      "Try using .loc[row_indexer,col_indexer] = value instead\n",
      "\n",
      "See the caveats in the documentation: https://pandas.pydata.org/pandas-docs/stable/user_guide/indexing.html#returning-a-view-versus-a-copy\n",
      "  \"\"\"Entry point for launching an IPython kernel.\n"
     ]
    }
   ],
   "source": [
    "df2['JUNCTIONTYPE'] = LabelEncoder().fit_transform(df2['JUNCTIONTYPE'])"
   ]
  },
  {
   "cell_type": "code",
   "execution_count": 77,
   "metadata": {},
   "outputs": [
    {
     "data": {
      "text/html": [
       "<div>\n",
       "<style scoped>\n",
       "    .dataframe tbody tr th:only-of-type {\n",
       "        vertical-align: middle;\n",
       "    }\n",
       "\n",
       "    .dataframe tbody tr th {\n",
       "        vertical-align: top;\n",
       "    }\n",
       "\n",
       "    .dataframe thead th {\n",
       "        text-align: right;\n",
       "    }\n",
       "</style>\n",
       "<table border=\"1\" class=\"dataframe\">\n",
       "  <thead>\n",
       "    <tr style=\"text-align: right;\">\n",
       "      <th></th>\n",
       "      <th>SEVERITYCODE</th>\n",
       "      <th>LOCATION</th>\n",
       "      <th>ADDRTYPE</th>\n",
       "      <th>COLLISIONTYPE</th>\n",
       "      <th>INATTENTIONIND</th>\n",
       "      <th>UNDERINFL</th>\n",
       "      <th>WEATHER</th>\n",
       "      <th>SPEEDING</th>\n",
       "      <th>LIGHTCOND</th>\n",
       "      <th>PEDROWNOTGRNT</th>\n",
       "      <th>ROADCOND</th>\n",
       "      <th>JUNCTIONTYPE</th>\n",
       "      <th>PERSONCOUNT</th>\n",
       "      <th>VEHCOUNT</th>\n",
       "      <th>HITPARKEDCAR</th>\n",
       "    </tr>\n",
       "  </thead>\n",
       "  <tbody>\n",
       "    <tr>\n",
       "      <th>0</th>\n",
       "      <td>2</td>\n",
       "      <td>5779</td>\n",
       "      <td>1</td>\n",
       "      <td>0</td>\n",
       "      <td>0</td>\n",
       "      <td>0</td>\n",
       "      <td>4</td>\n",
       "      <td>0</td>\n",
       "      <td>5</td>\n",
       "      <td>0</td>\n",
       "      <td>8</td>\n",
       "      <td>1</td>\n",
       "      <td>2</td>\n",
       "      <td>2</td>\n",
       "      <td>N</td>\n",
       "    </tr>\n",
       "    <tr>\n",
       "      <th>1</th>\n",
       "      <td>1</td>\n",
       "      <td>7149</td>\n",
       "      <td>0</td>\n",
       "      <td>9</td>\n",
       "      <td>0</td>\n",
       "      <td>0</td>\n",
       "      <td>5</td>\n",
       "      <td>0</td>\n",
       "      <td>2</td>\n",
       "      <td>0</td>\n",
       "      <td>8</td>\n",
       "      <td>4</td>\n",
       "      <td>2</td>\n",
       "      <td>2</td>\n",
       "      <td>N</td>\n",
       "    </tr>\n",
       "    <tr>\n",
       "      <th>2</th>\n",
       "      <td>1</td>\n",
       "      <td>5294</td>\n",
       "      <td>0</td>\n",
       "      <td>5</td>\n",
       "      <td>0</td>\n",
       "      <td>0</td>\n",
       "      <td>4</td>\n",
       "      <td>0</td>\n",
       "      <td>5</td>\n",
       "      <td>0</td>\n",
       "      <td>0</td>\n",
       "      <td>4</td>\n",
       "      <td>4</td>\n",
       "      <td>3</td>\n",
       "      <td>N</td>\n",
       "    </tr>\n",
       "    <tr>\n",
       "      <th>3</th>\n",
       "      <td>1</td>\n",
       "      <td>3181</td>\n",
       "      <td>0</td>\n",
       "      <td>4</td>\n",
       "      <td>0</td>\n",
       "      <td>0</td>\n",
       "      <td>1</td>\n",
       "      <td>0</td>\n",
       "      <td>5</td>\n",
       "      <td>0</td>\n",
       "      <td>0</td>\n",
       "      <td>4</td>\n",
       "      <td>3</td>\n",
       "      <td>3</td>\n",
       "      <td>N</td>\n",
       "    </tr>\n",
       "    <tr>\n",
       "      <th>4</th>\n",
       "      <td>2</td>\n",
       "      <td>15562</td>\n",
       "      <td>1</td>\n",
       "      <td>0</td>\n",
       "      <td>0</td>\n",
       "      <td>0</td>\n",
       "      <td>5</td>\n",
       "      <td>0</td>\n",
       "      <td>5</td>\n",
       "      <td>0</td>\n",
       "      <td>8</td>\n",
       "      <td>1</td>\n",
       "      <td>2</td>\n",
       "      <td>2</td>\n",
       "      <td>N</td>\n",
       "    </tr>\n",
       "  </tbody>\n",
       "</table>\n",
       "</div>"
      ],
      "text/plain": [
       "   SEVERITYCODE  LOCATION  ADDRTYPE  COLLISIONTYPE  INATTENTIONIND  UNDERINFL  \\\n",
       "0             2      5779         1              0               0          0   \n",
       "1             1      7149         0              9               0          0   \n",
       "2             1      5294         0              5               0          0   \n",
       "3             1      3181         0              4               0          0   \n",
       "4             2     15562         1              0               0          0   \n",
       "\n",
       "   WEATHER  SPEEDING  LIGHTCOND  PEDROWNOTGRNT  ROADCOND  JUNCTIONTYPE  \\\n",
       "0        4         0          5              0         8             1   \n",
       "1        5         0          2              0         8             4   \n",
       "2        4         0          5              0         0             4   \n",
       "3        1         0          5              0         0             4   \n",
       "4        5         0          5              0         8             1   \n",
       "\n",
       "   PERSONCOUNT  VEHCOUNT HITPARKEDCAR  \n",
       "0            2         2            N  \n",
       "1            2         2            N  \n",
       "2            4         3            N  \n",
       "3            3         3            N  \n",
       "4            2         2            N  "
      ]
     },
     "execution_count": 77,
     "metadata": {},
     "output_type": "execute_result"
    }
   ],
   "source": [
    "df2.head()"
   ]
  },
  {
   "cell_type": "markdown",
   "metadata": {},
   "source": [
    "####    All the categorical values have been converted into numerical values"
   ]
  },
  {
   "cell_type": "markdown",
   "metadata": {},
   "source": [
    "####    "
   ]
  },
  {
   "cell_type": "markdown",
   "metadata": {},
   "source": [
    "#### We will put all the Features in X and the label (SEVERITYCODE) in Y\n"
   ]
  },
  {
   "cell_type": "code",
   "execution_count": 78,
   "metadata": {},
   "outputs": [],
   "source": [
    "X=df2[['LOCATION','ADDRTYPE','COLLISIONTYPE','INATTENTIONIND','UNDERINFL','WEATHER','SPEEDING','LIGHTCOND','PEDROWNOTGRNT','ROADCOND','JUNCTIONTYPE','PERSONCOUNT','VEHCOUNT']]\n",
    "\n",
    "Y=df2[['SEVERITYCODE']].values"
   ]
  },
  {
   "cell_type": "code",
   "execution_count": 79,
   "metadata": {},
   "outputs": [
    {
     "data": {
      "text/html": [
       "<div>\n",
       "<style scoped>\n",
       "    .dataframe tbody tr th:only-of-type {\n",
       "        vertical-align: middle;\n",
       "    }\n",
       "\n",
       "    .dataframe tbody tr th {\n",
       "        vertical-align: top;\n",
       "    }\n",
       "\n",
       "    .dataframe thead th {\n",
       "        text-align: right;\n",
       "    }\n",
       "</style>\n",
       "<table border=\"1\" class=\"dataframe\">\n",
       "  <thead>\n",
       "    <tr style=\"text-align: right;\">\n",
       "      <th></th>\n",
       "      <th>LOCATION</th>\n",
       "      <th>ADDRTYPE</th>\n",
       "      <th>COLLISIONTYPE</th>\n",
       "      <th>INATTENTIONIND</th>\n",
       "      <th>UNDERINFL</th>\n",
       "      <th>WEATHER</th>\n",
       "      <th>SPEEDING</th>\n",
       "      <th>LIGHTCOND</th>\n",
       "      <th>PEDROWNOTGRNT</th>\n",
       "      <th>ROADCOND</th>\n",
       "      <th>JUNCTIONTYPE</th>\n",
       "      <th>PERSONCOUNT</th>\n",
       "      <th>VEHCOUNT</th>\n",
       "    </tr>\n",
       "  </thead>\n",
       "  <tbody>\n",
       "    <tr>\n",
       "      <th>0</th>\n",
       "      <td>5779</td>\n",
       "      <td>1</td>\n",
       "      <td>0</td>\n",
       "      <td>0</td>\n",
       "      <td>0</td>\n",
       "      <td>4</td>\n",
       "      <td>0</td>\n",
       "      <td>5</td>\n",
       "      <td>0</td>\n",
       "      <td>8</td>\n",
       "      <td>1</td>\n",
       "      <td>2</td>\n",
       "      <td>2</td>\n",
       "    </tr>\n",
       "    <tr>\n",
       "      <th>1</th>\n",
       "      <td>7149</td>\n",
       "      <td>0</td>\n",
       "      <td>9</td>\n",
       "      <td>0</td>\n",
       "      <td>0</td>\n",
       "      <td>5</td>\n",
       "      <td>0</td>\n",
       "      <td>2</td>\n",
       "      <td>0</td>\n",
       "      <td>8</td>\n",
       "      <td>4</td>\n",
       "      <td>2</td>\n",
       "      <td>2</td>\n",
       "    </tr>\n",
       "    <tr>\n",
       "      <th>2</th>\n",
       "      <td>5294</td>\n",
       "      <td>0</td>\n",
       "      <td>5</td>\n",
       "      <td>0</td>\n",
       "      <td>0</td>\n",
       "      <td>4</td>\n",
       "      <td>0</td>\n",
       "      <td>5</td>\n",
       "      <td>0</td>\n",
       "      <td>0</td>\n",
       "      <td>4</td>\n",
       "      <td>4</td>\n",
       "      <td>3</td>\n",
       "    </tr>\n",
       "    <tr>\n",
       "      <th>3</th>\n",
       "      <td>3181</td>\n",
       "      <td>0</td>\n",
       "      <td>4</td>\n",
       "      <td>0</td>\n",
       "      <td>0</td>\n",
       "      <td>1</td>\n",
       "      <td>0</td>\n",
       "      <td>5</td>\n",
       "      <td>0</td>\n",
       "      <td>0</td>\n",
       "      <td>4</td>\n",
       "      <td>3</td>\n",
       "      <td>3</td>\n",
       "    </tr>\n",
       "    <tr>\n",
       "      <th>4</th>\n",
       "      <td>15562</td>\n",
       "      <td>1</td>\n",
       "      <td>0</td>\n",
       "      <td>0</td>\n",
       "      <td>0</td>\n",
       "      <td>5</td>\n",
       "      <td>0</td>\n",
       "      <td>5</td>\n",
       "      <td>0</td>\n",
       "      <td>8</td>\n",
       "      <td>1</td>\n",
       "      <td>2</td>\n",
       "      <td>2</td>\n",
       "    </tr>\n",
       "    <tr>\n",
       "      <th>...</th>\n",
       "      <td>...</td>\n",
       "      <td>...</td>\n",
       "      <td>...</td>\n",
       "      <td>...</td>\n",
       "      <td>...</td>\n",
       "      <td>...</td>\n",
       "      <td>...</td>\n",
       "      <td>...</td>\n",
       "      <td>...</td>\n",
       "      <td>...</td>\n",
       "      <td>...</td>\n",
       "      <td>...</td>\n",
       "      <td>...</td>\n",
       "    </tr>\n",
       "    <tr>\n",
       "      <th>65684</th>\n",
       "      <td>724</td>\n",
       "      <td>1</td>\n",
       "      <td>6</td>\n",
       "      <td>0</td>\n",
       "      <td>0</td>\n",
       "      <td>5</td>\n",
       "      <td>0</td>\n",
       "      <td>5</td>\n",
       "      <td>1</td>\n",
       "      <td>8</td>\n",
       "      <td>1</td>\n",
       "      <td>2</td>\n",
       "      <td>1</td>\n",
       "    </tr>\n",
       "    <tr>\n",
       "      <th>65686</th>\n",
       "      <td>1077</td>\n",
       "      <td>0</td>\n",
       "      <td>7</td>\n",
       "      <td>1</td>\n",
       "      <td>0</td>\n",
       "      <td>1</td>\n",
       "      <td>0</td>\n",
       "      <td>5</td>\n",
       "      <td>0</td>\n",
       "      <td>0</td>\n",
       "      <td>4</td>\n",
       "      <td>3</td>\n",
       "      <td>3</td>\n",
       "    </tr>\n",
       "    <tr>\n",
       "      <th>65687</th>\n",
       "      <td>1610</td>\n",
       "      <td>1</td>\n",
       "      <td>9</td>\n",
       "      <td>0</td>\n",
       "      <td>0</td>\n",
       "      <td>4</td>\n",
       "      <td>0</td>\n",
       "      <td>5</td>\n",
       "      <td>0</td>\n",
       "      <td>0</td>\n",
       "      <td>1</td>\n",
       "      <td>2</td>\n",
       "      <td>2</td>\n",
       "    </tr>\n",
       "    <tr>\n",
       "      <th>65688</th>\n",
       "      <td>5004</td>\n",
       "      <td>1</td>\n",
       "      <td>0</td>\n",
       "      <td>0</td>\n",
       "      <td>0</td>\n",
       "      <td>1</td>\n",
       "      <td>0</td>\n",
       "      <td>5</td>\n",
       "      <td>0</td>\n",
       "      <td>0</td>\n",
       "      <td>1</td>\n",
       "      <td>5</td>\n",
       "      <td>2</td>\n",
       "    </tr>\n",
       "    <tr>\n",
       "      <th>65689</th>\n",
       "      <td>14008</td>\n",
       "      <td>0</td>\n",
       "      <td>4</td>\n",
       "      <td>0</td>\n",
       "      <td>0</td>\n",
       "      <td>1</td>\n",
       "      <td>0</td>\n",
       "      <td>5</td>\n",
       "      <td>0</td>\n",
       "      <td>0</td>\n",
       "      <td>4</td>\n",
       "      <td>4</td>\n",
       "      <td>2</td>\n",
       "    </tr>\n",
       "  </tbody>\n",
       "</table>\n",
       "<p>64099 rows × 13 columns</p>\n",
       "</div>"
      ],
      "text/plain": [
       "       LOCATION  ADDRTYPE  COLLISIONTYPE  INATTENTIONIND  UNDERINFL  WEATHER  \\\n",
       "0          5779         1              0               0          0        4   \n",
       "1          7149         0              9               0          0        5   \n",
       "2          5294         0              5               0          0        4   \n",
       "3          3181         0              4               0          0        1   \n",
       "4         15562         1              0               0          0        5   \n",
       "...         ...       ...            ...             ...        ...      ...   \n",
       "65684       724         1              6               0          0        5   \n",
       "65686      1077         0              7               1          0        1   \n",
       "65687      1610         1              9               0          0        4   \n",
       "65688      5004         1              0               0          0        1   \n",
       "65689     14008         0              4               0          0        1   \n",
       "\n",
       "       SPEEDING  LIGHTCOND  PEDROWNOTGRNT  ROADCOND  JUNCTIONTYPE  \\\n",
       "0             0          5              0         8             1   \n",
       "1             0          2              0         8             4   \n",
       "2             0          5              0         0             4   \n",
       "3             0          5              0         0             4   \n",
       "4             0          5              0         8             1   \n",
       "...         ...        ...            ...       ...           ...   \n",
       "65684         0          5              1         8             1   \n",
       "65686         0          5              0         0             4   \n",
       "65687         0          5              0         0             1   \n",
       "65688         0          5              0         0             1   \n",
       "65689         0          5              0         0             4   \n",
       "\n",
       "       PERSONCOUNT  VEHCOUNT  \n",
       "0                2         2  \n",
       "1                2         2  \n",
       "2                4         3  \n",
       "3                3         3  \n",
       "4                2         2  \n",
       "...            ...       ...  \n",
       "65684            2         1  \n",
       "65686            3         3  \n",
       "65687            2         2  \n",
       "65688            5         2  \n",
       "65689            4         2  \n",
       "\n",
       "[64099 rows x 13 columns]"
      ]
     },
     "execution_count": 79,
     "metadata": {},
     "output_type": "execute_result"
    }
   ],
   "source": [
    "X"
   ]
  },
  {
   "cell_type": "code",
   "execution_count": 80,
   "metadata": {},
   "outputs": [
    {
     "data": {
      "text/plain": [
       "array([[2],\n",
       "       [1],\n",
       "       [1],\n",
       "       [1],\n",
       "       [2]], dtype=int64)"
      ]
     },
     "execution_count": 80,
     "metadata": {},
     "output_type": "execute_result"
    }
   ],
   "source": [
    "Y[0:5]"
   ]
  },
  {
   "cell_type": "markdown",
   "metadata": {},
   "source": [
    "#### Normalize the Features"
   ]
  },
  {
   "cell_type": "code",
   "execution_count": 81,
   "metadata": {},
   "outputs": [
    {
     "data": {
      "text/plain": [
       "array([[-0.54456965,  1.46538508, -1.68821115, ..., -1.30734111,\n",
       "        -0.4549952 ,  0.05998258],\n",
       "       [-0.24746277, -0.68241448,  1.65423   , ...,  0.97409032,\n",
       "        -0.4549952 ,  0.05998258],\n",
       "       [-0.64974983, -0.68241448,  0.1687006 , ...,  0.97409032,\n",
       "         1.50236971,  2.11384137],\n",
       "       ...,\n",
       "       [-1.44868541,  1.46538508,  1.65423   , ..., -1.30734111,\n",
       "        -0.4549952 ,  0.05998258],\n",
       "       [-0.71264106,  1.46538508, -1.68821115, ..., -1.30734111,\n",
       "         2.48105216,  0.05998258],\n",
       "       [ 1.24002344, -0.68241448, -0.20268175, ...,  0.97409032,\n",
       "         1.50236971,  0.05998258]])"
      ]
     },
     "execution_count": 81,
     "metadata": {},
     "output_type": "execute_result"
    }
   ],
   "source": [
    "X= preprocessing.StandardScaler().fit(X).transform(X)\n",
    "X"
   ]
  },
  {
   "cell_type": "markdown",
   "metadata": {},
   "source": [
    "###  "
   ]
  },
  {
   "cell_type": "markdown",
   "metadata": {},
   "source": [
    "### Split the data set into Training set and Test set"
   ]
  },
  {
   "cell_type": "code",
   "execution_count": 82,
   "metadata": {},
   "outputs": [],
   "source": [
    "x_train,x_test,y_train,y_test=train_test_split(X, Y, test_size=0.2, random_state=4)"
   ]
  },
  {
   "cell_type": "markdown",
   "metadata": {},
   "source": [
    "##### Training set : (x_train,y_train)\n",
    "\n",
    "##### Test set : (x_test,y_test)"
   ]
  },
  {
   "cell_type": "markdown",
   "metadata": {},
   "source": [
    "####  "
   ]
  },
  {
   "cell_type": "markdown",
   "metadata": {},
   "source": [
    "### Now we will build several ML models using KNN , Decision Tree , SVM and Logistic Regression and then compare and determine which ML model would be the best"
   ]
  },
  {
   "cell_type": "markdown",
   "metadata": {},
   "source": [
    "###   "
   ]
  },
  {
   "cell_type": "markdown",
   "metadata": {},
   "source": [
    "###                               KNN Model : determine the optimal value of n_neighbors"
   ]
  },
  {
   "cell_type": "code",
   "execution_count": 83,
   "metadata": {},
   "outputs": [
    {
     "name": "stderr",
     "output_type": "stream",
     "text": [
      "C:\\ProgramData\\Anaconda3\\lib\\site-packages\\ipykernel_launcher.py:7: DataConversionWarning: A column-vector y was passed when a 1d array was expected. Please change the shape of y to (n_samples, ), for example using ravel().\n",
      "  import sys\n",
      "C:\\ProgramData\\Anaconda3\\lib\\site-packages\\ipykernel_launcher.py:7: DataConversionWarning: A column-vector y was passed when a 1d array was expected. Please change the shape of y to (n_samples, ), for example using ravel().\n",
      "  import sys\n",
      "C:\\ProgramData\\Anaconda3\\lib\\site-packages\\ipykernel_launcher.py:7: DataConversionWarning: A column-vector y was passed when a 1d array was expected. Please change the shape of y to (n_samples, ), for example using ravel().\n",
      "  import sys\n",
      "C:\\ProgramData\\Anaconda3\\lib\\site-packages\\ipykernel_launcher.py:7: DataConversionWarning: A column-vector y was passed when a 1d array was expected. Please change the shape of y to (n_samples, ), for example using ravel().\n",
      "  import sys\n",
      "C:\\ProgramData\\Anaconda3\\lib\\site-packages\\ipykernel_launcher.py:7: DataConversionWarning: A column-vector y was passed when a 1d array was expected. Please change the shape of y to (n_samples, ), for example using ravel().\n",
      "  import sys\n",
      "C:\\ProgramData\\Anaconda3\\lib\\site-packages\\ipykernel_launcher.py:7: DataConversionWarning: A column-vector y was passed when a 1d array was expected. Please change the shape of y to (n_samples, ), for example using ravel().\n",
      "  import sys\n",
      "C:\\ProgramData\\Anaconda3\\lib\\site-packages\\ipykernel_launcher.py:7: DataConversionWarning: A column-vector y was passed when a 1d array was expected. Please change the shape of y to (n_samples, ), for example using ravel().\n",
      "  import sys\n",
      "C:\\ProgramData\\Anaconda3\\lib\\site-packages\\ipykernel_launcher.py:7: DataConversionWarning: A column-vector y was passed when a 1d array was expected. Please change the shape of y to (n_samples, ), for example using ravel().\n",
      "  import sys\n",
      "C:\\ProgramData\\Anaconda3\\lib\\site-packages\\ipykernel_launcher.py:7: DataConversionWarning: A column-vector y was passed when a 1d array was expected. Please change the shape of y to (n_samples, ), for example using ravel().\n",
      "  import sys\n"
     ]
    },
    {
     "data": {
      "text/plain": [
       "array([0.68611544, 0.71981279, 0.71068643, 0.73034321, 0.72550702,\n",
       "       0.73322933, 0.7301092 , 0.73564743, 0.73276131])"
      ]
     },
     "execution_count": 83,
     "metadata": {},
     "output_type": "execute_result"
    }
   ],
   "source": [
    "k=10\n",
    "accuracy_knn=np.zeros((k-1))\n",
    "\n",
    "\n",
    "for n in range(1,k):\n",
    "    knn=KNeighborsClassifier(n_neighbors=n)\n",
    "    knn.fit(x_train,y_train)\n",
    "    yhat=knn.predict(x_test)\n",
    "    accuracy_knn[n-1]= metrics.accuracy_score(y_test , yhat)\n",
    "    \n",
    "accuracy_knn"
   ]
  },
  {
   "cell_type": "code",
   "execution_count": 96,
   "metadata": {},
   "outputs": [
    {
     "name": "stdout",
     "output_type": "stream",
     "text": [
      "The best accuracy values is  0.7356474258970359 with n= 8\n"
     ]
    }
   ],
   "source": [
    "print( \"The best accuracy values is \", accuracy_knn.max(), \"with n=\", accuracy_knn.argmax()+1)"
   ]
  },
  {
   "cell_type": "markdown",
   "metadata": {},
   "source": [
    "#   "
   ]
  },
  {
   "cell_type": "markdown",
   "metadata": {},
   "source": [
    "### Build the KNN Classifier Model with n_neighbors=8"
   ]
  },
  {
   "cell_type": "code",
   "execution_count": 85,
   "metadata": {},
   "outputs": [
    {
     "name": "stderr",
     "output_type": "stream",
     "text": [
      "C:\\ProgramData\\Anaconda3\\lib\\site-packages\\ipykernel_launcher.py:2: DataConversionWarning: A column-vector y was passed when a 1d array was expected. Please change the shape of y to (n_samples, ), for example using ravel().\n",
      "  \n"
     ]
    },
    {
     "name": "stdout",
     "output_type": "stream",
     "text": [
      "KNN jacard score 0.7356474258970359\n",
      "KNN F1 score score 0.7076023481869163\n"
     ]
    },
    {
     "name": "stderr",
     "output_type": "stream",
     "text": [
      "C:\\ProgramData\\Anaconda3\\lib\\site-packages\\sklearn\\metrics\\classification.py:635: DeprecationWarning: jaccard_similarity_score has been deprecated and replaced with jaccard_score. It will be removed in version 0.23. This implementation has surprising behavior for binary and multiclass classification tasks.\n",
      "  'and multiclass classification tasks.', DeprecationWarning)\n"
     ]
    }
   ],
   "source": [
    "knn_8=KNeighborsClassifier(n_neighbors=8)\n",
    "knn_8.fit(x_train,y_train)\n",
    "\n",
    "y_predict_knn=knn_8.predict(x_test)\n",
    "\n",
    "knn_jacard_score=jaccard_similarity_score(y_test, y_predict_knn)\n",
    "knn_F1_score=f1_score(y_test, y_predict_knn, average='weighted') \n",
    "\n",
    "print('KNN jacard score',knn_jacard_score)\n",
    "\n",
    "print('KNN F1 score score',knn_F1_score)"
   ]
  },
  {
   "cell_type": "markdown",
   "metadata": {},
   "source": [
    "#### Print the Classification Report of KNN Model"
   ]
  },
  {
   "cell_type": "code",
   "execution_count": 86,
   "metadata": {},
   "outputs": [
    {
     "name": "stdout",
     "output_type": "stream",
     "text": [
      "              precision    recall  f1-score   support\n",
      "\n",
      "           1       0.76      0.91      0.83      9000\n",
      "           2       0.61      0.32      0.42      3820\n",
      "\n",
      "    accuracy                           0.74     12820\n",
      "   macro avg       0.68      0.62      0.63     12820\n",
      "weighted avg       0.71      0.74      0.71     12820\n",
      "\n"
     ]
    }
   ],
   "source": [
    "print (classification_report(y_test, y_predict_knn))"
   ]
  },
  {
   "cell_type": "markdown",
   "metadata": {},
   "source": [
    "####   "
   ]
  },
  {
   "cell_type": "markdown",
   "metadata": {},
   "source": [
    "### Decision Tree Model  : determine the optimal depth"
   ]
  },
  {
   "cell_type": "code",
   "execution_count": 89,
   "metadata": {},
   "outputs": [
    {
     "data": {
      "text/plain": [
       "array([0.72784711, 0.73627145, 0.74344774, 0.74282371, 0.74890796,\n",
       "       0.74633385])"
      ]
     },
     "execution_count": 89,
     "metadata": {},
     "output_type": "execute_result"
    }
   ],
   "source": [
    "d=10\n",
    "i=0\n",
    "accuracy_tree=np.zeros((d-4))\n",
    "\n",
    "for n in range(4,d):\n",
    "    loan_tree=DecisionTreeClassifier(criterion=\"entropy\", max_depth = n)\n",
    "    loan_tree.fit(x_train,y_train)\n",
    "    yhat=loan_tree.predict(x_test)\n",
    "    accuracy_tree[i]= metrics.accuracy_score(y_test , yhat)\n",
    "    i=i+1\n",
    "    \n",
    "\n",
    "accuracy_tree"
   ]
  },
  {
   "cell_type": "code",
   "execution_count": 95,
   "metadata": {},
   "outputs": [
    {
     "name": "stdout",
     "output_type": "stream",
     "text": [
      "The best accuracy value is  0.7489079563182527 with depth= 8\n"
     ]
    }
   ],
   "source": [
    "print( \"The best accuracy value is \", accuracy_tree.max(), \"with depth=\", accuracy_tree.argmax()+4)"
   ]
  },
  {
   "cell_type": "markdown",
   "metadata": {},
   "source": [
    "###    "
   ]
  },
  {
   "cell_type": "markdown",
   "metadata": {},
   "source": [
    "### Build the Decision Tree model with depth=8"
   ]
  },
  {
   "cell_type": "code",
   "execution_count": 91,
   "metadata": {},
   "outputs": [
    {
     "name": "stdout",
     "output_type": "stream",
     "text": [
      "Decision Tree jacard score 0.748829953198128\n",
      "Decision Tree F1 score score 0.7174882701091606\n"
     ]
    },
    {
     "name": "stderr",
     "output_type": "stream",
     "text": [
      "C:\\ProgramData\\Anaconda3\\lib\\site-packages\\sklearn\\metrics\\classification.py:635: DeprecationWarning: jaccard_similarity_score has been deprecated and replaced with jaccard_score. It will be removed in version 0.23. This implementation has surprising behavior for binary and multiclass classification tasks.\n",
      "  'and multiclass classification tasks.', DeprecationWarning)\n"
     ]
    }
   ],
   "source": [
    "Tree_8=DecisionTreeClassifier(criterion=\"entropy\", max_depth = 8)\n",
    "Tree_8.fit(x_train,y_train)\n",
    "\n",
    "y_predict_tree=Tree_8.predict(x_test)\n",
    "\n",
    "tree_jacard_score=jaccard_similarity_score(y_test, y_predict_tree)\n",
    "tree_F1_score=f1_score(y_test, y_predict_tree, average='weighted') \n",
    "\n",
    "print('Decision Tree jacard score',tree_jacard_score)\n",
    "\n",
    "print('Decision Tree F1 score score',tree_F1_score)"
   ]
  },
  {
   "cell_type": "markdown",
   "metadata": {},
   "source": [
    "#### Print the Classification Report for the Decision Tree model"
   ]
  },
  {
   "cell_type": "code",
   "execution_count": 92,
   "metadata": {},
   "outputs": [
    {
     "name": "stdout",
     "output_type": "stream",
     "text": [
      "              precision    recall  f1-score   support\n",
      "\n",
      "           1       0.76      0.93      0.84      9000\n",
      "           2       0.66      0.32      0.43      3820\n",
      "\n",
      "    accuracy                           0.75     12820\n",
      "   macro avg       0.71      0.63      0.64     12820\n",
      "weighted avg       0.73      0.75      0.72     12820\n",
      "\n"
     ]
    }
   ],
   "source": [
    "print (classification_report(y_test, y_predict_tree))"
   ]
  },
  {
   "cell_type": "markdown",
   "metadata": {},
   "source": [
    "###  "
   ]
  },
  {
   "cell_type": "markdown",
   "metadata": {},
   "source": [
    "### Logistic Regression Model"
   ]
  },
  {
   "cell_type": "code",
   "execution_count": 93,
   "metadata": {},
   "outputs": [
    {
     "name": "stderr",
     "output_type": "stream",
     "text": [
      "C:\\ProgramData\\Anaconda3\\lib\\site-packages\\sklearn\\utils\\validation.py:724: DataConversionWarning: A column-vector y was passed when a 1d array was expected. Please change the shape of y to (n_samples, ), for example using ravel().\n",
      "  y = column_or_1d(y, warn=True)\n"
     ]
    },
    {
     "name": "stdout",
     "output_type": "stream",
     "text": [
      "Accuracy score 0.7205148205928237\n",
      "LR jacard score 0.7205148205928237\n",
      "LR F1 score 0.6649352793036145\n",
      "LR log loss 0.5504399097504845\n"
     ]
    },
    {
     "name": "stderr",
     "output_type": "stream",
     "text": [
      "C:\\ProgramData\\Anaconda3\\lib\\site-packages\\sklearn\\metrics\\classification.py:635: DeprecationWarning: jaccard_similarity_score has been deprecated and replaced with jaccard_score. It will be removed in version 0.23. This implementation has surprising behavior for binary and multiclass classification tasks.\n",
      "  'and multiclass classification tasks.', DeprecationWarning)\n"
     ]
    }
   ],
   "source": [
    "LR = LogisticRegression(C=0.01, solver='liblinear')\n",
    "LR.fit(x_train,y_train)\n",
    "y_predict_LR=LR.predict(x_test)\n",
    "y_prob_LR=LR.predict_proba(x_test)\n",
    "\n",
    "accuracy_LR=metrics.accuracy_score(y_test, y_predict_LR)\n",
    "\n",
    "LR_jacard_score=jaccard_similarity_score(y_test, y_predict_LR)\n",
    "LR_F1_score=f1_score(y_test, y_predict_LR, average='weighted') \n",
    "\n",
    "LR_log_loss=log_loss(y_test, y_prob_LR)\n",
    "\n",
    "\n",
    "print('Accuracy score' , accuracy_LR)\n",
    "print('LR jacard score',LR_jacard_score)\n",
    "\n",
    "print('LR F1 score',LR_F1_score)\n",
    "print('LR log loss' ,LR_log_loss)"
   ]
  },
  {
   "cell_type": "markdown",
   "metadata": {},
   "source": [
    "#### Print the Classification Report for the Logistic Regression model"
   ]
  },
  {
   "cell_type": "code",
   "execution_count": 94,
   "metadata": {},
   "outputs": [
    {
     "name": "stdout",
     "output_type": "stream",
     "text": [
      "              precision    recall  f1-score   support\n",
      "\n",
      "           1       0.73      0.95      0.83      9000\n",
      "           2       0.60      0.19      0.28      3820\n",
      "\n",
      "    accuracy                           0.72     12820\n",
      "   macro avg       0.67      0.57      0.56     12820\n",
      "weighted avg       0.69      0.72      0.66     12820\n",
      "\n"
     ]
    }
   ],
   "source": [
    "print (classification_report(y_test, y_predict_LR))"
   ]
  },
  {
   "cell_type": "markdown",
   "metadata": {},
   "source": [
    "###   "
   ]
  },
  {
   "cell_type": "markdown",
   "metadata": {},
   "source": [
    "### SVM Model"
   ]
  },
  {
   "cell_type": "code",
   "execution_count": 97,
   "metadata": {},
   "outputs": [
    {
     "name": "stderr",
     "output_type": "stream",
     "text": [
      "C:\\ProgramData\\Anaconda3\\lib\\site-packages\\sklearn\\utils\\validation.py:724: DataConversionWarning: A column-vector y was passed when a 1d array was expected. Please change the shape of y to (n_samples, ), for example using ravel().\n",
      "  y = column_or_1d(y, warn=True)\n",
      "C:\\ProgramData\\Anaconda3\\lib\\site-packages\\sklearn\\svm\\base.py:193: FutureWarning: The default value of gamma will change from 'auto' to 'scale' in version 0.22 to account better for unscaled features. Set gamma explicitly to 'auto' or 'scale' to avoid this warning.\n",
      "  \"avoid this warning.\", FutureWarning)\n"
     ]
    },
    {
     "name": "stdout",
     "output_type": "stream",
     "text": [
      "SVM jacard score 0.7465678627145086\n",
      "F1 score score 0.6948951382333056\n"
     ]
    },
    {
     "name": "stderr",
     "output_type": "stream",
     "text": [
      "C:\\ProgramData\\Anaconda3\\lib\\site-packages\\sklearn\\metrics\\classification.py:635: DeprecationWarning: jaccard_similarity_score has been deprecated and replaced with jaccard_score. It will be removed in version 0.23. This implementation has surprising behavior for binary and multiclass classification tasks.\n",
      "  'and multiclass classification tasks.', DeprecationWarning)\n"
     ]
    }
   ],
   "source": [
    "svm_rbf=svm.SVC(kernel='rbf')\n",
    "svm_rbf.fit(x_train,y_train)\n",
    "\n",
    "y_predict_svm=svm_rbf.predict(x_test)\n",
    "\n",
    "svm_jacard_score=jaccard_similarity_score(y_test, y_predict_svm)\n",
    "svm_F1_score=f1_score(y_test, y_predict_svm, average='weighted') \n",
    "\n",
    "print('SVM jacard score',svm_jacard_score)\n",
    "\n",
    "\n",
    "print('F1 score score',svm_F1_score)"
   ]
  },
  {
   "cell_type": "markdown",
   "metadata": {},
   "source": [
    "#### Print the Classification Report for SVM Model"
   ]
  },
  {
   "cell_type": "code",
   "execution_count": 98,
   "metadata": {},
   "outputs": [
    {
     "name": "stdout",
     "output_type": "stream",
     "text": [
      "              precision    recall  f1-score   support\n",
      "\n",
      "           1       0.75      0.97      0.84      9000\n",
      "           2       0.75      0.23      0.35      3820\n",
      "\n",
      "    accuracy                           0.75     12820\n",
      "   macro avg       0.75      0.60      0.59     12820\n",
      "weighted avg       0.75      0.75      0.69     12820\n",
      "\n"
     ]
    }
   ],
   "source": [
    "print (classification_report(y_test, y_predict_svm))"
   ]
  },
  {
   "cell_type": "markdown",
   "metadata": {},
   "source": [
    "###  "
   ]
  },
  {
   "cell_type": "markdown",
   "metadata": {},
   "source": [
    "### Report showing the Evaluation metrics for all the  Models"
   ]
  },
  {
   "cell_type": "markdown",
   "metadata": {},
   "source": [
    "| Algorithm           | Jaccard | F1-Score | Log Loss|\n",
    "|---------------------|---------|----------|---------|\n",
    "| KNN                 | 0.7356  | 0.7076   | NA      |\n",
    "| Decision Tree       | 0.7488  | 0.7174   | NA      |\n",
    "| SVM                 | 0.7465  | 0.6948   | NA      |\n",
    "| Logistic Regression | 0.7205  | 0.6649   | 0.5504  |"
   ]
  },
  {
   "cell_type": "markdown",
   "metadata": {},
   "source": [
    "##### Decision Tree model has the highest Jaccard Score (0.7488) and the highest F1-Score (0.7174) among all the Models.\n",
    "##### But since scores are nearer to SVM we will plot the Confusion Matrix for Decision Tree model and SVM model\n"
   ]
  },
  {
   "cell_type": "markdown",
   "metadata": {},
   "source": [
    "###  "
   ]
  },
  {
   "cell_type": "markdown",
   "metadata": {},
   "source": [
    "#### Confusion Matrix plot function for Decision Tree Model"
   ]
  },
  {
   "cell_type": "code",
   "execution_count": 110,
   "metadata": {},
   "outputs": [
    {
     "name": "stdout",
     "output_type": "stream",
     "text": [
      "[[8377  623]\n",
      " [2597 1223]]\n"
     ]
    }
   ],
   "source": [
    "def plot_confusion_matrix_tree(cm, classes,\n",
    "                          normalize=False,\n",
    "                          title='Confusion matrix',\n",
    "                          cmap=plt.cm.Blues):\n",
    "    \"\"\"\n",
    "    This function prints and plots the confusion matrix.\n",
    "    Normalization can be applied by setting `normalize=True`.\n",
    "    \"\"\"\n",
    "    if normalize:\n",
    "        cm = cm.astype('float') / cm.sum(axis=1)[:, np.newaxis]\n",
    "        print(\"Normalized confusion matrix\")\n",
    "    else:\n",
    "        print('Confusion matrix, without normalization')\n",
    "\n",
    "    print(cm)\n",
    "\n",
    "    plt.imshow(cm, interpolation='nearest', cmap=cmap)\n",
    "    plt.title(title)\n",
    "    plt.colorbar()\n",
    "    tick_marks = np.arange(len(classes))\n",
    "    plt.xticks(tick_marks, classes, rotation=45)\n",
    "    plt.yticks(tick_marks, classes)\n",
    "\n",
    "    fmt = '.2f' if normalize else 'd'\n",
    "    thresh = cm.max() / 2.\n",
    "    for i, j in itertools.product(range(cm.shape[0]), range(cm.shape[1])):\n",
    "        plt.text(j, i, format(cm[i, j], fmt),\n",
    "                 horizontalalignment=\"center\",\n",
    "                 color=\"white\" if cm[i, j] > thresh else \"black\")\n",
    "\n",
    "    plt.tight_layout()\n",
    "    plt.ylabel('True label')\n",
    "    plt.xlabel('Predicted label')\n",
    "print(confusion_matrix(y_test, y_predict_tree, labels=[1,2]))"
   ]
  },
  {
   "cell_type": "markdown",
   "metadata": {},
   "source": [
    "###  \n"
   ]
  },
  {
   "cell_type": "markdown",
   "metadata": {},
   "source": [
    "#### Confusion Matrix plot function for SVM Model"
   ]
  },
  {
   "cell_type": "code",
   "execution_count": 107,
   "metadata": {},
   "outputs": [
    {
     "name": "stdout",
     "output_type": "stream",
     "text": [
      "[[8710  290]\n",
      " [2959  861]]\n"
     ]
    }
   ],
   "source": [
    "def plot_confusion_matrix_svm(cm, classes,\n",
    "                          normalize=False,\n",
    "                          title='Confusion matrix',\n",
    "                          cmap=plt.cm.Blues):\n",
    "    \"\"\"\n",
    "    This function prints and plots the confusion matrix.\n",
    "    Normalization can be applied by setting `normalize=True`.\n",
    "    \"\"\"\n",
    "    if normalize:\n",
    "        cm = cm.astype('float') / cm.sum(axis=1)[:, np.newaxis]\n",
    "        print(\"Normalized confusion matrix\")\n",
    "    else:\n",
    "        print('Confusion matrix, without normalization')\n",
    "\n",
    "    print(cm)\n",
    "\n",
    "    plt.imshow(cm, interpolation='nearest', cmap=cmap)\n",
    "    plt.title(title)\n",
    "    plt.colorbar()\n",
    "    tick_marks = np.arange(len(classes))\n",
    "    plt.xticks(tick_marks, classes, rotation=45)\n",
    "    plt.yticks(tick_marks, classes)\n",
    "\n",
    "    fmt = '.2f' if normalize else 'd'\n",
    "    thresh = cm.max() / 2.\n",
    "    for i, j in itertools.product(range(cm.shape[0]), range(cm.shape[1])):\n",
    "        plt.text(j, i, format(cm[i, j], fmt),\n",
    "                 horizontalalignment=\"center\",\n",
    "                 color=\"white\" if cm[i, j] > thresh else \"black\")\n",
    "\n",
    "    plt.tight_layout()\n",
    "    plt.ylabel('True label')\n",
    "    plt.xlabel('Predicted label')\n",
    "print(confusion_matrix(y_test, y_predict_svm, labels=[1,2]))"
   ]
  },
  {
   "cell_type": "markdown",
   "metadata": {},
   "source": [
    "###  "
   ]
  },
  {
   "cell_type": "markdown",
   "metadata": {},
   "source": [
    "###  "
   ]
  },
  {
   "cell_type": "markdown",
   "metadata": {},
   "source": [
    "#### Plotting Confusion Matrix for Decision Tree model"
   ]
  },
  {
   "cell_type": "code",
   "execution_count": 111,
   "metadata": {},
   "outputs": [
    {
     "name": "stdout",
     "output_type": "stream",
     "text": [
      "Confusion matrix, without normalization\n",
      "[[8377  623]\n",
      " [2597 1223]]\n"
     ]
    },
    {
     "data": {
      "image/png": "[encoded data removed]",
      "text/plain": [
       "<Figure size 432x288 with 2 Axes>"
      ]
     },
     "metadata": {
      "needs_background": "light"
     },
     "output_type": "display_data"
    }
   ],
   "source": [
    "cnf_matrix_tree = confusion_matrix(y_test, y_predict_tree, labels=[1,2])\n",
    "np.set_printoptions(precision=2)\n",
    "\n",
    "\n",
    "# Plot non-normalized confusion matrix\n",
    "plt.figure()\n",
    "plot_confusion_matrix_tree(cnf_matrix_tree, classes=['Severity=1','Severity=2'],normalize= False,  title='Confusion matrix : Decision Tree')"
   ]
  },
  {
   "cell_type": "markdown",
   "metadata": {},
   "source": [
    "##   "
   ]
  },
  {
   "cell_type": "markdown",
   "metadata": {},
   "source": [
    "#### Plotting Confusion Matrix for SVM model"
   ]
  },
  {
   "cell_type": "code",
   "execution_count": 112,
   "metadata": {},
   "outputs": [
    {
     "name": "stdout",
     "output_type": "stream",
     "text": [
      "Confusion matrix, without normalization\n",
      "[[8710  290]\n",
      " [2959  861]]\n"
     ]
    },
    {
     "data": {
      "image/png": "[encoded data removed]",
      "text/plain": [
       "<Figure size 432x288 with 2 Axes>"
      ]
     },
     "metadata": {
      "needs_background": "light"
     },
     "output_type": "display_data"
    }
   ],
   "source": [
    "cnf_matrix_svm = confusion_matrix(y_test, y_predict_svm, labels=[1,2])\n",
    "np.set_printoptions(precision=2)\n",
    "\n",
    "\n",
    "# Plot non-normalized confusion matrix\n",
    "plt.figure()\n",
    "plot_confusion_matrix_svm(cnf_matrix_svm, classes=['Severity=1','Severity=2'],normalize= False,  title='Confusion matrix: SVM Model')"
   ]
  },
  {
   "cell_type": "markdown",
   "metadata": {},
   "source": [
    "###  "
   ]
  },
  {
   "cell_type": "markdown",
   "metadata": {},
   "source": [
    "### Results "
   ]
  },
  {
   "cell_type": "markdown",
   "metadata": {},
   "source": [
    "#### We choose Decision Tree model for predicting the Accident Severity on Seattle Raods for the following reasons :\n",
    "\n",
    "From the Confusion Matrix we can see that Decision Tree model can predict Severity 2 Accidents more accurately (almost by 50%) than SVM Tree model.\n",
    "There is not much difference in predicting Seveity 1 Accidents between the two models.\n",
    "Since Decision Tree model also has higher Jaccard score and F1 -Score we choose Decision Tree model for predicting the Accident Severity on Seattle Raods."
   ]
  },
  {
   "cell_type": "code",
   "execution_count": null,
   "metadata": {},
   "outputs": [],
   "source": []
  }
 ],
 "metadata": {
  "kernelspec": {
   "display_name": "Python 3",
   "language": "python",
   "name": "python3"
  },
  "language_info": {
   "codemirror_mode": {
    "name": "ipython",
    "version": 3
   },
   "file_extension": ".py",
   "mimetype": "text/x-python",
   "name": "python",
   "nbconvert_exporter": "python",
   "pygments_lexer": "ipython3",
   "version": "3.7.6"
  }
 },
 "nbformat": 4,
 "nbformat_minor": 4
}
